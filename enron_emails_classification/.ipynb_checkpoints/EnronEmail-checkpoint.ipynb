{
 "cells": [
  {
   "cell_type": "markdown",
   "metadata": {},
   "source": [
    "### Importing libraries and magics"
   ]
  },
  {
   "cell_type": "code",
   "execution_count": 1,
   "metadata": {},
   "outputs": [
    {
     "name": "stderr",
     "output_type": "stream",
     "text": [
      "C:\\Users\\gunjeet singh\\Anaconda3\\lib\\site-packages\\sklearn\\cross_validation.py:41: DeprecationWarning: This module was deprecated in version 0.18 in favor of the model_selection module into which all the refactored classes and functions are moved. Also note that the interface of the new CV iterators are different from that of this module. This module will be removed in 0.20.\n",
      "  \"This module will be removed in 0.20.\", DeprecationWarning)\n"
     ]
    }
   ],
   "source": [
    "import sys\n",
    "import os\n",
    "sys.path.append(os.getcwd()+\"/tools/\")\n",
    "from tester import test_classifier"
   ]
  },
  {
   "cell_type": "code",
   "execution_count": 49,
   "metadata": {
    "collapsed": true
   },
   "outputs": [],
   "source": [
    "#Importing libraries and magics\n",
    "\n",
    "\n",
    "import sys\n",
    "\n",
    "from matplotlib.colors import ListedColormap\n",
    "import matplotlib.patches as mpatches\n",
    "import matplotlib.pyplot as plt\n",
    "\n",
    "import numpy as np\n",
    "import pandas as pd\n",
    "import pickle\n",
    "import seaborn as sns\n",
    "import re\n",
    "\n",
    "from sklearn.decomposition import PCA\n",
    "from sklearn.ensemble import AdaBoostClassifier, RandomForestClassifier\n",
    "from sklearn.feature_selection import SelectPercentile, SelectKBest\n",
    "from sklearn.model_selection import GridSearchCV, StratifiedShuffleSplit\n",
    "from sklearn.neighbors import KNeighborsClassifier, NearestCentroid\n",
    "from sklearn.pipeline import Pipeline\n",
    "from sklearn.preprocessing import MaxAbsScaler, StandardScaler\n",
    "from sklearn.svm import LinearSVC, SVC\n",
    "from sklearn.preprocessing import MinMaxScaler\n",
    "\n",
    "#from tester import test_classifier\n",
    "import warnings\n",
    "\n",
    "\n"
   ]
  },
  {
   "cell_type": "markdown",
   "metadata": {},
   "source": [
    "### Import the file which contain the dataset to our variable"
   ]
  },
  {
   "cell_type": "code",
   "execution_count": 5,
   "metadata": {},
   "outputs": [],
   "source": [
    "# Load the dictionary containing the dataset\n",
    "with open(os.getcwd()+\"/final_project_dataset.pkl\", \"rb\") as data_file:\n",
    "    data_init = pickle.load(data_file)"
   ]
  },
  {
   "cell_type": "markdown",
   "metadata": {},
   "source": [
    "### Converting the dataset from a python dictionary to a pandas dataframe"
   ]
  },
  {
   "cell_type": "code",
   "execution_count": 6,
   "metadata": {
    "collapsed": true
   },
   "outputs": [],
   "source": [
    "#Converting the dataset from a python dictionary to a pandas dataframe\n",
    "data_df = pd.DataFrame.from_dict(data_init, orient='index')\n",
    "raw_data = data_df.copy()"
   ]
  },
  {
   "cell_type": "markdown",
   "metadata": {},
   "source": [
    "#### Now check the structure of the new data frame to find out how many total number of observation and column are prsent "
   ]
  },
  {
   "cell_type": "code",
   "execution_count": 7,
   "metadata": {},
   "outputs": [
    {
     "data": {
      "text/plain": [
       "(146, 21)"
      ]
     },
     "execution_count": 7,
     "metadata": {},
     "output_type": "execute_result"
    }
   ],
   "source": [
    "data_df.shape"
   ]
  },
  {
   "cell_type": "markdown",
   "metadata": {},
   "source": [
    "#### Print the first 5 values of the data frame "
   ]
  },
  {
   "cell_type": "code",
   "execution_count": 8,
   "metadata": {
    "scrolled": true
   },
   "outputs": [
    {
     "data": {
      "text/html": [
       "<div>\n",
       "<style>\n",
       "    .dataframe thead tr:only-child th {\n",
       "        text-align: right;\n",
       "    }\n",
       "\n",
       "    .dataframe thead th {\n",
       "        text-align: left;\n",
       "    }\n",
       "\n",
       "    .dataframe tbody tr th {\n",
       "        vertical-align: top;\n",
       "    }\n",
       "</style>\n",
       "<table border=\"1\" class=\"dataframe\">\n",
       "  <thead>\n",
       "    <tr style=\"text-align: right;\">\n",
       "      <th></th>\n",
       "      <th>salary</th>\n",
       "      <th>to_messages</th>\n",
       "      <th>deferral_payments</th>\n",
       "      <th>total_payments</th>\n",
       "      <th>loan_advances</th>\n",
       "      <th>bonus</th>\n",
       "      <th>email_address</th>\n",
       "      <th>restricted_stock_deferred</th>\n",
       "      <th>deferred_income</th>\n",
       "      <th>total_stock_value</th>\n",
       "      <th>...</th>\n",
       "      <th>from_poi_to_this_person</th>\n",
       "      <th>exercised_stock_options</th>\n",
       "      <th>from_messages</th>\n",
       "      <th>other</th>\n",
       "      <th>from_this_person_to_poi</th>\n",
       "      <th>poi</th>\n",
       "      <th>long_term_incentive</th>\n",
       "      <th>shared_receipt_with_poi</th>\n",
       "      <th>restricted_stock</th>\n",
       "      <th>director_fees</th>\n",
       "    </tr>\n",
       "  </thead>\n",
       "  <tbody>\n",
       "    <tr>\n",
       "      <th>ALLEN PHILLIP K</th>\n",
       "      <td>201955</td>\n",
       "      <td>2902</td>\n",
       "      <td>2869717</td>\n",
       "      <td>4484442</td>\n",
       "      <td>NaN</td>\n",
       "      <td>4175000</td>\n",
       "      <td>phillip.allen@enron.com</td>\n",
       "      <td>-126027</td>\n",
       "      <td>-3081055</td>\n",
       "      <td>1729541</td>\n",
       "      <td>...</td>\n",
       "      <td>47</td>\n",
       "      <td>1729541</td>\n",
       "      <td>2195</td>\n",
       "      <td>152</td>\n",
       "      <td>65</td>\n",
       "      <td>False</td>\n",
       "      <td>304805</td>\n",
       "      <td>1407</td>\n",
       "      <td>126027</td>\n",
       "      <td>NaN</td>\n",
       "    </tr>\n",
       "    <tr>\n",
       "      <th>BADUM JAMES P</th>\n",
       "      <td>NaN</td>\n",
       "      <td>NaN</td>\n",
       "      <td>178980</td>\n",
       "      <td>182466</td>\n",
       "      <td>NaN</td>\n",
       "      <td>NaN</td>\n",
       "      <td>NaN</td>\n",
       "      <td>NaN</td>\n",
       "      <td>NaN</td>\n",
       "      <td>257817</td>\n",
       "      <td>...</td>\n",
       "      <td>NaN</td>\n",
       "      <td>257817</td>\n",
       "      <td>NaN</td>\n",
       "      <td>NaN</td>\n",
       "      <td>NaN</td>\n",
       "      <td>False</td>\n",
       "      <td>NaN</td>\n",
       "      <td>NaN</td>\n",
       "      <td>NaN</td>\n",
       "      <td>NaN</td>\n",
       "    </tr>\n",
       "    <tr>\n",
       "      <th>BANNANTINE JAMES M</th>\n",
       "      <td>477</td>\n",
       "      <td>566</td>\n",
       "      <td>NaN</td>\n",
       "      <td>916197</td>\n",
       "      <td>NaN</td>\n",
       "      <td>NaN</td>\n",
       "      <td>james.bannantine@enron.com</td>\n",
       "      <td>-560222</td>\n",
       "      <td>-5104</td>\n",
       "      <td>5243487</td>\n",
       "      <td>...</td>\n",
       "      <td>39</td>\n",
       "      <td>4046157</td>\n",
       "      <td>29</td>\n",
       "      <td>864523</td>\n",
       "      <td>0</td>\n",
       "      <td>False</td>\n",
       "      <td>NaN</td>\n",
       "      <td>465</td>\n",
       "      <td>1757552</td>\n",
       "      <td>NaN</td>\n",
       "    </tr>\n",
       "    <tr>\n",
       "      <th>BAXTER JOHN C</th>\n",
       "      <td>267102</td>\n",
       "      <td>NaN</td>\n",
       "      <td>1295738</td>\n",
       "      <td>5634343</td>\n",
       "      <td>NaN</td>\n",
       "      <td>1200000</td>\n",
       "      <td>NaN</td>\n",
       "      <td>NaN</td>\n",
       "      <td>-1386055</td>\n",
       "      <td>10623258</td>\n",
       "      <td>...</td>\n",
       "      <td>NaN</td>\n",
       "      <td>6680544</td>\n",
       "      <td>NaN</td>\n",
       "      <td>2660303</td>\n",
       "      <td>NaN</td>\n",
       "      <td>False</td>\n",
       "      <td>1586055</td>\n",
       "      <td>NaN</td>\n",
       "      <td>3942714</td>\n",
       "      <td>NaN</td>\n",
       "    </tr>\n",
       "    <tr>\n",
       "      <th>BAY FRANKLIN R</th>\n",
       "      <td>239671</td>\n",
       "      <td>NaN</td>\n",
       "      <td>260455</td>\n",
       "      <td>827696</td>\n",
       "      <td>NaN</td>\n",
       "      <td>400000</td>\n",
       "      <td>frank.bay@enron.com</td>\n",
       "      <td>-82782</td>\n",
       "      <td>-201641</td>\n",
       "      <td>63014</td>\n",
       "      <td>...</td>\n",
       "      <td>NaN</td>\n",
       "      <td>NaN</td>\n",
       "      <td>NaN</td>\n",
       "      <td>69</td>\n",
       "      <td>NaN</td>\n",
       "      <td>False</td>\n",
       "      <td>NaN</td>\n",
       "      <td>NaN</td>\n",
       "      <td>145796</td>\n",
       "      <td>NaN</td>\n",
       "    </tr>\n",
       "  </tbody>\n",
       "</table>\n",
       "<p>5 rows × 21 columns</p>\n",
       "</div>"
      ],
      "text/plain": [
       "                    salary to_messages deferral_payments total_payments  \\\n",
       "ALLEN PHILLIP K     201955        2902           2869717        4484442   \n",
       "BADUM JAMES P          NaN         NaN            178980         182466   \n",
       "BANNANTINE JAMES M     477         566               NaN         916197   \n",
       "BAXTER JOHN C       267102         NaN           1295738        5634343   \n",
       "BAY FRANKLIN R      239671         NaN            260455         827696   \n",
       "\n",
       "                   loan_advances    bonus               email_address  \\\n",
       "ALLEN PHILLIP K              NaN  4175000     phillip.allen@enron.com   \n",
       "BADUM JAMES P                NaN      NaN                         NaN   \n",
       "BANNANTINE JAMES M           NaN      NaN  james.bannantine@enron.com   \n",
       "BAXTER JOHN C                NaN  1200000                         NaN   \n",
       "BAY FRANKLIN R               NaN   400000         frank.bay@enron.com   \n",
       "\n",
       "                   restricted_stock_deferred deferred_income  \\\n",
       "ALLEN PHILLIP K                      -126027        -3081055   \n",
       "BADUM JAMES P                            NaN             NaN   \n",
       "BANNANTINE JAMES M                   -560222           -5104   \n",
       "BAXTER JOHN C                            NaN        -1386055   \n",
       "BAY FRANKLIN R                        -82782         -201641   \n",
       "\n",
       "                   total_stock_value      ...      from_poi_to_this_person  \\\n",
       "ALLEN PHILLIP K              1729541      ...                           47   \n",
       "BADUM JAMES P                 257817      ...                          NaN   \n",
       "BANNANTINE JAMES M           5243487      ...                           39   \n",
       "BAXTER JOHN C               10623258      ...                          NaN   \n",
       "BAY FRANKLIN R                 63014      ...                          NaN   \n",
       "\n",
       "                   exercised_stock_options from_messages    other  \\\n",
       "ALLEN PHILLIP K                    1729541          2195      152   \n",
       "BADUM JAMES P                       257817           NaN      NaN   \n",
       "BANNANTINE JAMES M                 4046157            29   864523   \n",
       "BAXTER JOHN C                      6680544           NaN  2660303   \n",
       "BAY FRANKLIN R                         NaN           NaN       69   \n",
       "\n",
       "                   from_this_person_to_poi    poi  long_term_incentive  \\\n",
       "ALLEN PHILLIP K                         65  False               304805   \n",
       "BADUM JAMES P                          NaN  False                  NaN   \n",
       "BANNANTINE JAMES M                       0  False                  NaN   \n",
       "BAXTER JOHN C                          NaN  False              1586055   \n",
       "BAY FRANKLIN R                         NaN  False                  NaN   \n",
       "\n",
       "                   shared_receipt_with_poi restricted_stock director_fees  \n",
       "ALLEN PHILLIP K                       1407           126027           NaN  \n",
       "BADUM JAMES P                          NaN              NaN           NaN  \n",
       "BANNANTINE JAMES M                     465          1757552           NaN  \n",
       "BAXTER JOHN C                          NaN          3942714           NaN  \n",
       "BAY FRANKLIN R                         NaN           145796           NaN  \n",
       "\n",
       "[5 rows x 21 columns]"
      ]
     },
     "execution_count": 8,
     "metadata": {},
     "output_type": "execute_result"
    }
   ],
   "source": [
    "data_df.head()"
   ]
  },
  {
   "cell_type": "markdown",
   "metadata": {},
   "source": [
    "#### The dataset contains information of 21 features from 146 employees."
   ]
  },
  {
   "cell_type": "markdown",
   "metadata": {},
   "source": [
    "We can see that column have some values as NaN.\n",
    "\"NaN”s are actually strings so we will replace them with Numpy’s “NaN”s so that we  can count the values which are not NaN\n",
    "across the variables (column)."
   ]
  },
  {
   "cell_type": "code",
   "execution_count": 9,
   "metadata": {
    "collapsed": true
   },
   "outputs": [],
   "source": [
    "data_df.replace(to_replace='NaN', value=np.nan, inplace=True)"
   ]
  },
  {
   "cell_type": "code",
   "execution_count": 10,
   "metadata": {},
   "outputs": [
    {
     "data": {
      "text/plain": [
       "loan_advances                  4\n",
       "director_fees                 17\n",
       "restricted_stock_deferred     18\n",
       "deferral_payments             39\n",
       "deferred_income               49\n",
       "long_term_incentive           66\n",
       "bonus                         82\n",
       "to_messages                   86\n",
       "shared_receipt_with_poi       86\n",
       "from_this_person_to_poi       86\n",
       "from_poi_to_this_person       86\n",
       "from_messages                 86\n",
       "other                         93\n",
       "salary                        95\n",
       "expenses                      95\n",
       "exercised_stock_options      102\n",
       "restricted_stock             110\n",
       "email_address                111\n",
       "total_payments               125\n",
       "total_stock_value            126\n",
       "poi                          146\n",
       "dtype: int64"
      ]
     },
     "execution_count": 10,
     "metadata": {},
     "output_type": "execute_result"
    }
   ],
   "source": [
    "data_df.count().sort_values()"
   ]
  },
  {
   "cell_type": "markdown",
   "metadata": {},
   "source": [
    " Above O/P represent the count of the values in each columns of the data frame"
   ]
  },
  {
   "cell_type": "markdown",
   "metadata": {},
   "source": [
    " We can observe that the dataset is quite sparse with some variables like Total Payments and Total Stock Value having values for most of the employees but some others like Loan Advances and Director Fees that we have information for too few employees."
   ]
  },
  {
   "cell_type": "markdown",
   "metadata": {},
   "source": [
    "We want to find out the records in the data frame which have the mising values. From the above observation we can see that POI variable has the value for all the 146 employees.So we can drop this variable from our data frame. "
   ]
  },
  {
   "cell_type": "markdown",
   "metadata": {},
   "source": [
    "##### We can also remove the email_address field since we cannot use it somehow in the analysis and we will create a temporary copy without the label (POI)."
   ]
  },
  {
   "cell_type": "code",
   "execution_count": 11,
   "metadata": {},
   "outputs": [
    {
     "data": {
      "text/html": [
       "<div>\n",
       "<style>\n",
       "    .dataframe thead tr:only-child th {\n",
       "        text-align: right;\n",
       "    }\n",
       "\n",
       "    .dataframe thead th {\n",
       "        text-align: left;\n",
       "    }\n",
       "\n",
       "    .dataframe tbody tr th {\n",
       "        vertical-align: top;\n",
       "    }\n",
       "</style>\n",
       "<table border=\"1\" class=\"dataframe\">\n",
       "  <thead>\n",
       "    <tr style=\"text-align: right;\">\n",
       "      <th></th>\n",
       "      <th>salary</th>\n",
       "      <th>to_messages</th>\n",
       "      <th>deferral_payments</th>\n",
       "      <th>total_payments</th>\n",
       "      <th>loan_advances</th>\n",
       "      <th>bonus</th>\n",
       "      <th>restricted_stock_deferred</th>\n",
       "      <th>deferred_income</th>\n",
       "      <th>total_stock_value</th>\n",
       "      <th>expenses</th>\n",
       "      <th>from_poi_to_this_person</th>\n",
       "      <th>exercised_stock_options</th>\n",
       "      <th>from_messages</th>\n",
       "      <th>other</th>\n",
       "      <th>from_this_person_to_poi</th>\n",
       "      <th>long_term_incentive</th>\n",
       "      <th>shared_receipt_with_poi</th>\n",
       "      <th>restricted_stock</th>\n",
       "      <th>director_fees</th>\n",
       "    </tr>\n",
       "  </thead>\n",
       "  <tbody>\n",
       "    <tr>\n",
       "      <th>LOCKHART EUGENE E</th>\n",
       "      <td>NaN</td>\n",
       "      <td>NaN</td>\n",
       "      <td>NaN</td>\n",
       "      <td>NaN</td>\n",
       "      <td>NaN</td>\n",
       "      <td>NaN</td>\n",
       "      <td>NaN</td>\n",
       "      <td>NaN</td>\n",
       "      <td>NaN</td>\n",
       "      <td>NaN</td>\n",
       "      <td>NaN</td>\n",
       "      <td>NaN</td>\n",
       "      <td>NaN</td>\n",
       "      <td>NaN</td>\n",
       "      <td>NaN</td>\n",
       "      <td>NaN</td>\n",
       "      <td>NaN</td>\n",
       "      <td>NaN</td>\n",
       "      <td>NaN</td>\n",
       "    </tr>\n",
       "  </tbody>\n",
       "</table>\n",
       "</div>"
      ],
      "text/plain": [
       "                   salary  to_messages  deferral_payments  total_payments  \\\n",
       "LOCKHART EUGENE E     NaN          NaN                NaN             NaN   \n",
       "\n",
       "                   loan_advances  bonus  restricted_stock_deferred  \\\n",
       "LOCKHART EUGENE E            NaN    NaN                        NaN   \n",
       "\n",
       "                   deferred_income  total_stock_value  expenses  \\\n",
       "LOCKHART EUGENE E              NaN                NaN       NaN   \n",
       "\n",
       "                   from_poi_to_this_person  exercised_stock_options  \\\n",
       "LOCKHART EUGENE E                      NaN                      NaN   \n",
       "\n",
       "                   from_messages  other  from_this_person_to_poi  \\\n",
       "LOCKHART EUGENE E            NaN    NaN                      NaN   \n",
       "\n",
       "                   long_term_incentive  shared_receipt_with_poi  \\\n",
       "LOCKHART EUGENE E                  NaN                      NaN   \n",
       "\n",
       "                   restricted_stock  director_fees  \n",
       "LOCKHART EUGENE E               NaN            NaN  "
      ]
     },
     "execution_count": 11,
     "metadata": {},
     "output_type": "execute_result"
    }
   ],
   "source": [
    "#dropping 'poi' and 'email_address' variables\n",
    "data_df = data_df.drop([\"email_address\"], axis=1)\n",
    "data_temp = data_df.drop([\"poi\"], axis=1)\n",
    "data_temp[data_temp.isnull().all(axis=1)]\n"
   ]
  },
  {
   "cell_type": "markdown",
   "metadata": {},
   "source": [
    "<b>LOCKHART EUGENE E </b> is the employe in the teporary data frame which has all the missing value for all the variable so we can drop this employee records from the original data fram"
   ]
  },
  {
   "cell_type": "code",
   "execution_count": 12,
   "metadata": {
    "collapsed": true
   },
   "outputs": [],
   "source": [
    "data_df = data_df.drop([\"LOCKHART EUGENE E\"], axis=0)"
   ]
  },
  {
   "cell_type": "markdown",
   "metadata": {},
   "source": [
    "#### Next, since some values are related we would like to rearrange the columns in he following order:"
   ]
  },
  {
   "cell_type": "code",
   "execution_count": 13,
   "metadata": {},
   "outputs": [
    {
     "data": {
      "text/html": [
       "<div>\n",
       "<style>\n",
       "    .dataframe thead tr:only-child th {\n",
       "        text-align: right;\n",
       "    }\n",
       "\n",
       "    .dataframe thead th {\n",
       "        text-align: left;\n",
       "    }\n",
       "\n",
       "    .dataframe tbody tr th {\n",
       "        vertical-align: top;\n",
       "    }\n",
       "</style>\n",
       "<table border=\"1\" class=\"dataframe\">\n",
       "  <thead>\n",
       "    <tr style=\"text-align: right;\">\n",
       "      <th></th>\n",
       "      <th>poi</th>\n",
       "      <th>salary</th>\n",
       "      <th>bonus</th>\n",
       "      <th>long_term_incentive</th>\n",
       "      <th>deferred_income</th>\n",
       "      <th>deferral_payments</th>\n",
       "      <th>loan_advances</th>\n",
       "      <th>other</th>\n",
       "      <th>expenses</th>\n",
       "      <th>director_fees</th>\n",
       "      <th>total_payments</th>\n",
       "      <th>exercised_stock_options</th>\n",
       "      <th>restricted_stock</th>\n",
       "      <th>restricted_stock_deferred</th>\n",
       "      <th>total_stock_value</th>\n",
       "      <th>from_poi_to_this_person</th>\n",
       "      <th>shared_receipt_with_poi</th>\n",
       "      <th>to_messages</th>\n",
       "      <th>from_this_person_to_poi</th>\n",
       "      <th>from_messages</th>\n",
       "    </tr>\n",
       "  </thead>\n",
       "  <tbody>\n",
       "    <tr>\n",
       "      <th>ALLEN PHILLIP K</th>\n",
       "      <td>False</td>\n",
       "      <td>201955.0</td>\n",
       "      <td>4175000.0</td>\n",
       "      <td>304805.0</td>\n",
       "      <td>-3081055.0</td>\n",
       "      <td>2869717.0</td>\n",
       "      <td>NaN</td>\n",
       "      <td>152.0</td>\n",
       "      <td>13868.0</td>\n",
       "      <td>NaN</td>\n",
       "      <td>4484442.0</td>\n",
       "      <td>1729541.0</td>\n",
       "      <td>126027.0</td>\n",
       "      <td>-126027.0</td>\n",
       "      <td>1729541.0</td>\n",
       "      <td>47.0</td>\n",
       "      <td>1407.0</td>\n",
       "      <td>2902.0</td>\n",
       "      <td>65.0</td>\n",
       "      <td>2195.0</td>\n",
       "    </tr>\n",
       "    <tr>\n",
       "      <th>BADUM JAMES P</th>\n",
       "      <td>False</td>\n",
       "      <td>NaN</td>\n",
       "      <td>NaN</td>\n",
       "      <td>NaN</td>\n",
       "      <td>NaN</td>\n",
       "      <td>178980.0</td>\n",
       "      <td>NaN</td>\n",
       "      <td>NaN</td>\n",
       "      <td>3486.0</td>\n",
       "      <td>NaN</td>\n",
       "      <td>182466.0</td>\n",
       "      <td>257817.0</td>\n",
       "      <td>NaN</td>\n",
       "      <td>NaN</td>\n",
       "      <td>257817.0</td>\n",
       "      <td>NaN</td>\n",
       "      <td>NaN</td>\n",
       "      <td>NaN</td>\n",
       "      <td>NaN</td>\n",
       "      <td>NaN</td>\n",
       "    </tr>\n",
       "    <tr>\n",
       "      <th>BANNANTINE JAMES M</th>\n",
       "      <td>False</td>\n",
       "      <td>477.0</td>\n",
       "      <td>NaN</td>\n",
       "      <td>NaN</td>\n",
       "      <td>-5104.0</td>\n",
       "      <td>NaN</td>\n",
       "      <td>NaN</td>\n",
       "      <td>864523.0</td>\n",
       "      <td>56301.0</td>\n",
       "      <td>NaN</td>\n",
       "      <td>916197.0</td>\n",
       "      <td>4046157.0</td>\n",
       "      <td>1757552.0</td>\n",
       "      <td>-560222.0</td>\n",
       "      <td>5243487.0</td>\n",
       "      <td>39.0</td>\n",
       "      <td>465.0</td>\n",
       "      <td>566.0</td>\n",
       "      <td>0.0</td>\n",
       "      <td>29.0</td>\n",
       "    </tr>\n",
       "    <tr>\n",
       "      <th>BAXTER JOHN C</th>\n",
       "      <td>False</td>\n",
       "      <td>267102.0</td>\n",
       "      <td>1200000.0</td>\n",
       "      <td>1586055.0</td>\n",
       "      <td>-1386055.0</td>\n",
       "      <td>1295738.0</td>\n",
       "      <td>NaN</td>\n",
       "      <td>2660303.0</td>\n",
       "      <td>11200.0</td>\n",
       "      <td>NaN</td>\n",
       "      <td>5634343.0</td>\n",
       "      <td>6680544.0</td>\n",
       "      <td>3942714.0</td>\n",
       "      <td>NaN</td>\n",
       "      <td>10623258.0</td>\n",
       "      <td>NaN</td>\n",
       "      <td>NaN</td>\n",
       "      <td>NaN</td>\n",
       "      <td>NaN</td>\n",
       "      <td>NaN</td>\n",
       "    </tr>\n",
       "    <tr>\n",
       "      <th>BAY FRANKLIN R</th>\n",
       "      <td>False</td>\n",
       "      <td>239671.0</td>\n",
       "      <td>400000.0</td>\n",
       "      <td>NaN</td>\n",
       "      <td>-201641.0</td>\n",
       "      <td>260455.0</td>\n",
       "      <td>NaN</td>\n",
       "      <td>69.0</td>\n",
       "      <td>129142.0</td>\n",
       "      <td>NaN</td>\n",
       "      <td>827696.0</td>\n",
       "      <td>NaN</td>\n",
       "      <td>145796.0</td>\n",
       "      <td>-82782.0</td>\n",
       "      <td>63014.0</td>\n",
       "      <td>NaN</td>\n",
       "      <td>NaN</td>\n",
       "      <td>NaN</td>\n",
       "      <td>NaN</td>\n",
       "      <td>NaN</td>\n",
       "    </tr>\n",
       "  </tbody>\n",
       "</table>\n",
       "</div>"
      ],
      "text/plain": [
       "                      poi    salary      bonus  long_term_incentive  \\\n",
       "ALLEN PHILLIP K     False  201955.0  4175000.0             304805.0   \n",
       "BADUM JAMES P       False       NaN        NaN                  NaN   \n",
       "BANNANTINE JAMES M  False     477.0        NaN                  NaN   \n",
       "BAXTER JOHN C       False  267102.0  1200000.0            1586055.0   \n",
       "BAY FRANKLIN R      False  239671.0   400000.0                  NaN   \n",
       "\n",
       "                    deferred_income  deferral_payments  loan_advances  \\\n",
       "ALLEN PHILLIP K          -3081055.0          2869717.0            NaN   \n",
       "BADUM JAMES P                   NaN           178980.0            NaN   \n",
       "BANNANTINE JAMES M          -5104.0                NaN            NaN   \n",
       "BAXTER JOHN C            -1386055.0          1295738.0            NaN   \n",
       "BAY FRANKLIN R            -201641.0           260455.0            NaN   \n",
       "\n",
       "                        other  expenses  director_fees  total_payments  \\\n",
       "ALLEN PHILLIP K         152.0   13868.0            NaN       4484442.0   \n",
       "BADUM JAMES P             NaN    3486.0            NaN        182466.0   \n",
       "BANNANTINE JAMES M   864523.0   56301.0            NaN        916197.0   \n",
       "BAXTER JOHN C       2660303.0   11200.0            NaN       5634343.0   \n",
       "BAY FRANKLIN R           69.0  129142.0            NaN        827696.0   \n",
       "\n",
       "                    exercised_stock_options  restricted_stock  \\\n",
       "ALLEN PHILLIP K                   1729541.0          126027.0   \n",
       "BADUM JAMES P                      257817.0               NaN   \n",
       "BANNANTINE JAMES M                4046157.0         1757552.0   \n",
       "BAXTER JOHN C                     6680544.0         3942714.0   \n",
       "BAY FRANKLIN R                          NaN          145796.0   \n",
       "\n",
       "                    restricted_stock_deferred  total_stock_value  \\\n",
       "ALLEN PHILLIP K                     -126027.0          1729541.0   \n",
       "BADUM JAMES P                             NaN           257817.0   \n",
       "BANNANTINE JAMES M                  -560222.0          5243487.0   \n",
       "BAXTER JOHN C                             NaN         10623258.0   \n",
       "BAY FRANKLIN R                       -82782.0            63014.0   \n",
       "\n",
       "                    from_poi_to_this_person  shared_receipt_with_poi  \\\n",
       "ALLEN PHILLIP K                        47.0                   1407.0   \n",
       "BADUM JAMES P                           NaN                      NaN   \n",
       "BANNANTINE JAMES M                     39.0                    465.0   \n",
       "BAXTER JOHN C                           NaN                      NaN   \n",
       "BAY FRANKLIN R                          NaN                      NaN   \n",
       "\n",
       "                    to_messages  from_this_person_to_poi  from_messages  \n",
       "ALLEN PHILLIP K          2902.0                     65.0         2195.0  \n",
       "BADUM JAMES P               NaN                      NaN            NaN  \n",
       "BANNANTINE JAMES M        566.0                      0.0           29.0  \n",
       "BAXTER JOHN C               NaN                      NaN            NaN  \n",
       "BAY FRANKLIN R              NaN                      NaN            NaN  "
      ]
     },
     "execution_count": 13,
     "metadata": {},
     "output_type": "execute_result"
    }
   ],
   "source": [
    "cols = [\n",
    "    'poi', 'salary', 'bonus', 'long_term_incentive', 'deferred_income',\n",
    "    'deferral_payments', 'loan_advances', 'other', 'expenses', 'director_fees',\n",
    "    'total_payments', 'exercised_stock_options', 'restricted_stock',\n",
    "    'restricted_stock_deferred', 'total_stock_value',\n",
    "    'from_poi_to_this_person', 'shared_receipt_with_poi', 'to_messages',\n",
    "    'from_this_person_to_poi', 'from_messages'\n",
    "]\n",
    "data_df = data_df[cols]\n",
    "data_df.head()"
   ]
  },
  {
   "cell_type": "code",
   "execution_count": 14,
   "metadata": {
    "collapsed": true
   },
   "outputs": [],
   "source": [
    "data_df.replace(to_replace=np.NaN, value=0, inplace=True)"
   ]
  },
  {
   "cell_type": "code",
   "execution_count": 15,
   "metadata": {
    "scrolled": true
   },
   "outputs": [
    {
     "data": {
      "text/html": [
       "<div>\n",
       "<style>\n",
       "    .dataframe thead tr:only-child th {\n",
       "        text-align: right;\n",
       "    }\n",
       "\n",
       "    .dataframe thead th {\n",
       "        text-align: left;\n",
       "    }\n",
       "\n",
       "    .dataframe tbody tr th {\n",
       "        vertical-align: top;\n",
       "    }\n",
       "</style>\n",
       "<table border=\"1\" class=\"dataframe\">\n",
       "  <thead>\n",
       "    <tr style=\"text-align: right;\">\n",
       "      <th></th>\n",
       "      <th>poi</th>\n",
       "      <th>salary</th>\n",
       "      <th>bonus</th>\n",
       "      <th>long_term_incentive</th>\n",
       "      <th>deferred_income</th>\n",
       "      <th>deferral_payments</th>\n",
       "      <th>loan_advances</th>\n",
       "      <th>other</th>\n",
       "      <th>expenses</th>\n",
       "      <th>director_fees</th>\n",
       "      <th>total_payments</th>\n",
       "      <th>exercised_stock_options</th>\n",
       "      <th>restricted_stock</th>\n",
       "      <th>restricted_stock_deferred</th>\n",
       "      <th>total_stock_value</th>\n",
       "      <th>from_poi_to_this_person</th>\n",
       "      <th>shared_receipt_with_poi</th>\n",
       "      <th>to_messages</th>\n",
       "      <th>from_this_person_to_poi</th>\n",
       "      <th>from_messages</th>\n",
       "    </tr>\n",
       "  </thead>\n",
       "  <tbody>\n",
       "    <tr>\n",
       "      <th>ALLEN PHILLIP K</th>\n",
       "      <td>False</td>\n",
       "      <td>201955.0</td>\n",
       "      <td>4175000.0</td>\n",
       "      <td>304805.0</td>\n",
       "      <td>-3081055.0</td>\n",
       "      <td>2869717.0</td>\n",
       "      <td>0.0</td>\n",
       "      <td>152.0</td>\n",
       "      <td>13868.0</td>\n",
       "      <td>0.0</td>\n",
       "      <td>4484442.0</td>\n",
       "      <td>1729541.0</td>\n",
       "      <td>126027.0</td>\n",
       "      <td>-126027.0</td>\n",
       "      <td>1729541.0</td>\n",
       "      <td>47.0</td>\n",
       "      <td>1407.0</td>\n",
       "      <td>2902.0</td>\n",
       "      <td>65.0</td>\n",
       "      <td>2195.0</td>\n",
       "    </tr>\n",
       "    <tr>\n",
       "      <th>BADUM JAMES P</th>\n",
       "      <td>False</td>\n",
       "      <td>0.0</td>\n",
       "      <td>0.0</td>\n",
       "      <td>0.0</td>\n",
       "      <td>0.0</td>\n",
       "      <td>178980.0</td>\n",
       "      <td>0.0</td>\n",
       "      <td>0.0</td>\n",
       "      <td>3486.0</td>\n",
       "      <td>0.0</td>\n",
       "      <td>182466.0</td>\n",
       "      <td>257817.0</td>\n",
       "      <td>0.0</td>\n",
       "      <td>0.0</td>\n",
       "      <td>257817.0</td>\n",
       "      <td>0.0</td>\n",
       "      <td>0.0</td>\n",
       "      <td>0.0</td>\n",
       "      <td>0.0</td>\n",
       "      <td>0.0</td>\n",
       "    </tr>\n",
       "    <tr>\n",
       "      <th>BANNANTINE JAMES M</th>\n",
       "      <td>False</td>\n",
       "      <td>477.0</td>\n",
       "      <td>0.0</td>\n",
       "      <td>0.0</td>\n",
       "      <td>-5104.0</td>\n",
       "      <td>0.0</td>\n",
       "      <td>0.0</td>\n",
       "      <td>864523.0</td>\n",
       "      <td>56301.0</td>\n",
       "      <td>0.0</td>\n",
       "      <td>916197.0</td>\n",
       "      <td>4046157.0</td>\n",
       "      <td>1757552.0</td>\n",
       "      <td>-560222.0</td>\n",
       "      <td>5243487.0</td>\n",
       "      <td>39.0</td>\n",
       "      <td>465.0</td>\n",
       "      <td>566.0</td>\n",
       "      <td>0.0</td>\n",
       "      <td>29.0</td>\n",
       "    </tr>\n",
       "    <tr>\n",
       "      <th>BAXTER JOHN C</th>\n",
       "      <td>False</td>\n",
       "      <td>267102.0</td>\n",
       "      <td>1200000.0</td>\n",
       "      <td>1586055.0</td>\n",
       "      <td>-1386055.0</td>\n",
       "      <td>1295738.0</td>\n",
       "      <td>0.0</td>\n",
       "      <td>2660303.0</td>\n",
       "      <td>11200.0</td>\n",
       "      <td>0.0</td>\n",
       "      <td>5634343.0</td>\n",
       "      <td>6680544.0</td>\n",
       "      <td>3942714.0</td>\n",
       "      <td>0.0</td>\n",
       "      <td>10623258.0</td>\n",
       "      <td>0.0</td>\n",
       "      <td>0.0</td>\n",
       "      <td>0.0</td>\n",
       "      <td>0.0</td>\n",
       "      <td>0.0</td>\n",
       "    </tr>\n",
       "    <tr>\n",
       "      <th>BAY FRANKLIN R</th>\n",
       "      <td>False</td>\n",
       "      <td>239671.0</td>\n",
       "      <td>400000.0</td>\n",
       "      <td>0.0</td>\n",
       "      <td>-201641.0</td>\n",
       "      <td>260455.0</td>\n",
       "      <td>0.0</td>\n",
       "      <td>69.0</td>\n",
       "      <td>129142.0</td>\n",
       "      <td>0.0</td>\n",
       "      <td>827696.0</td>\n",
       "      <td>0.0</td>\n",
       "      <td>145796.0</td>\n",
       "      <td>-82782.0</td>\n",
       "      <td>63014.0</td>\n",
       "      <td>0.0</td>\n",
       "      <td>0.0</td>\n",
       "      <td>0.0</td>\n",
       "      <td>0.0</td>\n",
       "      <td>0.0</td>\n",
       "    </tr>\n",
       "  </tbody>\n",
       "</table>\n",
       "</div>"
      ],
      "text/plain": [
       "                      poi    salary      bonus  long_term_incentive  \\\n",
       "ALLEN PHILLIP K     False  201955.0  4175000.0             304805.0   \n",
       "BADUM JAMES P       False       0.0        0.0                  0.0   \n",
       "BANNANTINE JAMES M  False     477.0        0.0                  0.0   \n",
       "BAXTER JOHN C       False  267102.0  1200000.0            1586055.0   \n",
       "BAY FRANKLIN R      False  239671.0   400000.0                  0.0   \n",
       "\n",
       "                    deferred_income  deferral_payments  loan_advances  \\\n",
       "ALLEN PHILLIP K          -3081055.0          2869717.0            0.0   \n",
       "BADUM JAMES P                   0.0           178980.0            0.0   \n",
       "BANNANTINE JAMES M          -5104.0                0.0            0.0   \n",
       "BAXTER JOHN C            -1386055.0          1295738.0            0.0   \n",
       "BAY FRANKLIN R            -201641.0           260455.0            0.0   \n",
       "\n",
       "                        other  expenses  director_fees  total_payments  \\\n",
       "ALLEN PHILLIP K         152.0   13868.0            0.0       4484442.0   \n",
       "BADUM JAMES P             0.0    3486.0            0.0        182466.0   \n",
       "BANNANTINE JAMES M   864523.0   56301.0            0.0        916197.0   \n",
       "BAXTER JOHN C       2660303.0   11200.0            0.0       5634343.0   \n",
       "BAY FRANKLIN R           69.0  129142.0            0.0        827696.0   \n",
       "\n",
       "                    exercised_stock_options  restricted_stock  \\\n",
       "ALLEN PHILLIP K                   1729541.0          126027.0   \n",
       "BADUM JAMES P                      257817.0               0.0   \n",
       "BANNANTINE JAMES M                4046157.0         1757552.0   \n",
       "BAXTER JOHN C                     6680544.0         3942714.0   \n",
       "BAY FRANKLIN R                          0.0          145796.0   \n",
       "\n",
       "                    restricted_stock_deferred  total_stock_value  \\\n",
       "ALLEN PHILLIP K                     -126027.0          1729541.0   \n",
       "BADUM JAMES P                             0.0           257817.0   \n",
       "BANNANTINE JAMES M                  -560222.0          5243487.0   \n",
       "BAXTER JOHN C                             0.0         10623258.0   \n",
       "BAY FRANKLIN R                       -82782.0            63014.0   \n",
       "\n",
       "                    from_poi_to_this_person  shared_receipt_with_poi  \\\n",
       "ALLEN PHILLIP K                        47.0                   1407.0   \n",
       "BADUM JAMES P                           0.0                      0.0   \n",
       "BANNANTINE JAMES M                     39.0                    465.0   \n",
       "BAXTER JOHN C                           0.0                      0.0   \n",
       "BAY FRANKLIN R                          0.0                      0.0   \n",
       "\n",
       "                    to_messages  from_this_person_to_poi  from_messages  \n",
       "ALLEN PHILLIP K          2902.0                     65.0         2195.0  \n",
       "BADUM JAMES P               0.0                      0.0            0.0  \n",
       "BANNANTINE JAMES M        566.0                      0.0           29.0  \n",
       "BAXTER JOHN C               0.0                      0.0            0.0  \n",
       "BAY FRANKLIN R              0.0                      0.0            0.0  "
      ]
     },
     "execution_count": 15,
     "metadata": {},
     "output_type": "execute_result"
    }
   ],
   "source": [
    "data_df.head()"
   ]
  },
  {
   "cell_type": "markdown",
   "metadata": {},
   "source": [
    "#### Now that the features are in the right order, we can examine the statistics of the dataset."
   ]
  },
  {
   "cell_type": "code",
   "execution_count": 16,
   "metadata": {},
   "outputs": [
    {
     "data": {
      "text/html": [
       "<div>\n",
       "<style>\n",
       "    .dataframe thead tr:only-child th {\n",
       "        text-align: right;\n",
       "    }\n",
       "\n",
       "    .dataframe thead th {\n",
       "        text-align: left;\n",
       "    }\n",
       "\n",
       "    .dataframe tbody tr th {\n",
       "        vertical-align: top;\n",
       "    }\n",
       "</style>\n",
       "<table border=\"1\" class=\"dataframe\">\n",
       "  <thead>\n",
       "    <tr style=\"text-align: right;\">\n",
       "      <th></th>\n",
       "      <th>salary</th>\n",
       "      <th>bonus</th>\n",
       "      <th>long_term_incentive</th>\n",
       "      <th>deferred_income</th>\n",
       "      <th>deferral_payments</th>\n",
       "      <th>loan_advances</th>\n",
       "      <th>other</th>\n",
       "      <th>expenses</th>\n",
       "      <th>director_fees</th>\n",
       "      <th>total_payments</th>\n",
       "      <th>exercised_stock_options</th>\n",
       "      <th>restricted_stock</th>\n",
       "      <th>restricted_stock_deferred</th>\n",
       "      <th>total_stock_value</th>\n",
       "      <th>from_poi_to_this_person</th>\n",
       "      <th>shared_receipt_with_poi</th>\n",
       "      <th>to_messages</th>\n",
       "      <th>from_this_person_to_poi</th>\n",
       "      <th>from_messages</th>\n",
       "    </tr>\n",
       "  </thead>\n",
       "  <tbody>\n",
       "    <tr>\n",
       "      <th>count</th>\n",
       "      <td>1.450000e+02</td>\n",
       "      <td>1.450000e+02</td>\n",
       "      <td>1.450000e+02</td>\n",
       "      <td>1.450000e+02</td>\n",
       "      <td>1.450000e+02</td>\n",
       "      <td>1.450000e+02</td>\n",
       "      <td>1.450000e+02</td>\n",
       "      <td>1.450000e+02</td>\n",
       "      <td>1.450000e+02</td>\n",
       "      <td>1.450000e+02</td>\n",
       "      <td>1.450000e+02</td>\n",
       "      <td>1.450000e+02</td>\n",
       "      <td>1.450000e+02</td>\n",
       "      <td>1.450000e+02</td>\n",
       "      <td>145.000000</td>\n",
       "      <td>145.000000</td>\n",
       "      <td>145.000000</td>\n",
       "      <td>145.000000</td>\n",
       "      <td>145.000000</td>\n",
       "    </tr>\n",
       "    <tr>\n",
       "      <th>mean</th>\n",
       "      <td>3.683342e+05</td>\n",
       "      <td>1.342671e+06</td>\n",
       "      <td>6.692680e+05</td>\n",
       "      <td>-3.854019e+05</td>\n",
       "      <td>4.418227e+05</td>\n",
       "      <td>1.157586e+06</td>\n",
       "      <td>5.894693e+05</td>\n",
       "      <td>7.123619e+04</td>\n",
       "      <td>1.955643e+04</td>\n",
       "      <td>4.380626e+06</td>\n",
       "      <td>4.211583e+06</td>\n",
       "      <td>1.761321e+06</td>\n",
       "      <td>2.065786e+04</td>\n",
       "      <td>5.886335e+06</td>\n",
       "      <td>38.489655</td>\n",
       "      <td>697.765517</td>\n",
       "      <td>1230.013793</td>\n",
       "      <td>24.455172</td>\n",
       "      <td>361.075862</td>\n",
       "    </tr>\n",
       "    <tr>\n",
       "      <th>std</th>\n",
       "      <td>2.211001e+06</td>\n",
       "      <td>8.121319e+06</td>\n",
       "      <td>4.059716e+06</td>\n",
       "      <td>2.386279e+06</td>\n",
       "      <td>2.750583e+06</td>\n",
       "      <td>9.682311e+06</td>\n",
       "      <td>3.694784e+06</td>\n",
       "      <td>4.341759e+05</td>\n",
       "      <td>1.194559e+05</td>\n",
       "      <td>2.702539e+07</td>\n",
       "      <td>2.615843e+07</td>\n",
       "      <td>1.093676e+07</td>\n",
       "      <td>1.444650e+06</td>\n",
       "      <td>3.636916e+07</td>\n",
       "      <td>74.088359</td>\n",
       "      <td>1075.128126</td>\n",
       "      <td>2232.153003</td>\n",
       "      <td>79.527073</td>\n",
       "      <td>1445.944684</td>\n",
       "    </tr>\n",
       "    <tr>\n",
       "      <th>min</th>\n",
       "      <td>0.000000e+00</td>\n",
       "      <td>0.000000e+00</td>\n",
       "      <td>0.000000e+00</td>\n",
       "      <td>-2.799289e+07</td>\n",
       "      <td>-1.025000e+05</td>\n",
       "      <td>0.000000e+00</td>\n",
       "      <td>0.000000e+00</td>\n",
       "      <td>0.000000e+00</td>\n",
       "      <td>0.000000e+00</td>\n",
       "      <td>0.000000e+00</td>\n",
       "      <td>0.000000e+00</td>\n",
       "      <td>-2.604490e+06</td>\n",
       "      <td>-7.576788e+06</td>\n",
       "      <td>-4.409300e+04</td>\n",
       "      <td>0.000000</td>\n",
       "      <td>0.000000</td>\n",
       "      <td>0.000000</td>\n",
       "      <td>0.000000</td>\n",
       "      <td>0.000000</td>\n",
       "    </tr>\n",
       "    <tr>\n",
       "      <th>25%</th>\n",
       "      <td>0.000000e+00</td>\n",
       "      <td>0.000000e+00</td>\n",
       "      <td>0.000000e+00</td>\n",
       "      <td>-3.834600e+04</td>\n",
       "      <td>0.000000e+00</td>\n",
       "      <td>0.000000e+00</td>\n",
       "      <td>0.000000e+00</td>\n",
       "      <td>0.000000e+00</td>\n",
       "      <td>0.000000e+00</td>\n",
       "      <td>1.025000e+05</td>\n",
       "      <td>0.000000e+00</td>\n",
       "      <td>3.246000e+04</td>\n",
       "      <td>0.000000e+00</td>\n",
       "      <td>2.520550e+05</td>\n",
       "      <td>0.000000</td>\n",
       "      <td>0.000000</td>\n",
       "      <td>0.000000</td>\n",
       "      <td>0.000000</td>\n",
       "      <td>0.000000</td>\n",
       "    </tr>\n",
       "    <tr>\n",
       "      <th>50%</th>\n",
       "      <td>2.106920e+05</td>\n",
       "      <td>3.000000e+05</td>\n",
       "      <td>0.000000e+00</td>\n",
       "      <td>0.000000e+00</td>\n",
       "      <td>0.000000e+00</td>\n",
       "      <td>0.000000e+00</td>\n",
       "      <td>9.720000e+02</td>\n",
       "      <td>2.153000e+04</td>\n",
       "      <td>0.000000e+00</td>\n",
       "      <td>9.665220e+05</td>\n",
       "      <td>6.087500e+05</td>\n",
       "      <td>3.605280e+05</td>\n",
       "      <td>0.000000e+00</td>\n",
       "      <td>9.760370e+05</td>\n",
       "      <td>4.000000</td>\n",
       "      <td>114.000000</td>\n",
       "      <td>312.000000</td>\n",
       "      <td>0.000000</td>\n",
       "      <td>17.000000</td>\n",
       "    </tr>\n",
       "    <tr>\n",
       "      <th>75%</th>\n",
       "      <td>2.714420e+05</td>\n",
       "      <td>8.000000e+05</td>\n",
       "      <td>3.753040e+05</td>\n",
       "      <td>0.000000e+00</td>\n",
       "      <td>1.025900e+04</td>\n",
       "      <td>0.000000e+00</td>\n",
       "      <td>1.506560e+05</td>\n",
       "      <td>5.394700e+04</td>\n",
       "      <td>0.000000e+00</td>\n",
       "      <td>1.979596e+06</td>\n",
       "      <td>1.729541e+06</td>\n",
       "      <td>8.530640e+05</td>\n",
       "      <td>0.000000e+00</td>\n",
       "      <td>2.332399e+06</td>\n",
       "      <td>41.000000</td>\n",
       "      <td>900.000000</td>\n",
       "      <td>1607.000000</td>\n",
       "      <td>14.000000</td>\n",
       "      <td>52.000000</td>\n",
       "    </tr>\n",
       "    <tr>\n",
       "      <th>max</th>\n",
       "      <td>2.670423e+07</td>\n",
       "      <td>9.734362e+07</td>\n",
       "      <td>4.852193e+07</td>\n",
       "      <td>0.000000e+00</td>\n",
       "      <td>3.208340e+07</td>\n",
       "      <td>8.392500e+07</td>\n",
       "      <td>4.266759e+07</td>\n",
       "      <td>5.235198e+06</td>\n",
       "      <td>1.398517e+06</td>\n",
       "      <td>3.098866e+08</td>\n",
       "      <td>3.117640e+08</td>\n",
       "      <td>1.303223e+08</td>\n",
       "      <td>1.545629e+07</td>\n",
       "      <td>4.345095e+08</td>\n",
       "      <td>528.000000</td>\n",
       "      <td>5521.000000</td>\n",
       "      <td>15149.000000</td>\n",
       "      <td>609.000000</td>\n",
       "      <td>14368.000000</td>\n",
       "    </tr>\n",
       "  </tbody>\n",
       "</table>\n",
       "</div>"
      ],
      "text/plain": [
       "             salary         bonus  long_term_incentive  deferred_income  \\\n",
       "count  1.450000e+02  1.450000e+02         1.450000e+02     1.450000e+02   \n",
       "mean   3.683342e+05  1.342671e+06         6.692680e+05    -3.854019e+05   \n",
       "std    2.211001e+06  8.121319e+06         4.059716e+06     2.386279e+06   \n",
       "min    0.000000e+00  0.000000e+00         0.000000e+00    -2.799289e+07   \n",
       "25%    0.000000e+00  0.000000e+00         0.000000e+00    -3.834600e+04   \n",
       "50%    2.106920e+05  3.000000e+05         0.000000e+00     0.000000e+00   \n",
       "75%    2.714420e+05  8.000000e+05         3.753040e+05     0.000000e+00   \n",
       "max    2.670423e+07  9.734362e+07         4.852193e+07     0.000000e+00   \n",
       "\n",
       "       deferral_payments  loan_advances         other      expenses  \\\n",
       "count       1.450000e+02   1.450000e+02  1.450000e+02  1.450000e+02   \n",
       "mean        4.418227e+05   1.157586e+06  5.894693e+05  7.123619e+04   \n",
       "std         2.750583e+06   9.682311e+06  3.694784e+06  4.341759e+05   \n",
       "min        -1.025000e+05   0.000000e+00  0.000000e+00  0.000000e+00   \n",
       "25%         0.000000e+00   0.000000e+00  0.000000e+00  0.000000e+00   \n",
       "50%         0.000000e+00   0.000000e+00  9.720000e+02  2.153000e+04   \n",
       "75%         1.025900e+04   0.000000e+00  1.506560e+05  5.394700e+04   \n",
       "max         3.208340e+07   8.392500e+07  4.266759e+07  5.235198e+06   \n",
       "\n",
       "       director_fees  total_payments  exercised_stock_options  \\\n",
       "count   1.450000e+02    1.450000e+02             1.450000e+02   \n",
       "mean    1.955643e+04    4.380626e+06             4.211583e+06   \n",
       "std     1.194559e+05    2.702539e+07             2.615843e+07   \n",
       "min     0.000000e+00    0.000000e+00             0.000000e+00   \n",
       "25%     0.000000e+00    1.025000e+05             0.000000e+00   \n",
       "50%     0.000000e+00    9.665220e+05             6.087500e+05   \n",
       "75%     0.000000e+00    1.979596e+06             1.729541e+06   \n",
       "max     1.398517e+06    3.098866e+08             3.117640e+08   \n",
       "\n",
       "       restricted_stock  restricted_stock_deferred  total_stock_value  \\\n",
       "count      1.450000e+02               1.450000e+02       1.450000e+02   \n",
       "mean       1.761321e+06               2.065786e+04       5.886335e+06   \n",
       "std        1.093676e+07               1.444650e+06       3.636916e+07   \n",
       "min       -2.604490e+06              -7.576788e+06      -4.409300e+04   \n",
       "25%        3.246000e+04               0.000000e+00       2.520550e+05   \n",
       "50%        3.605280e+05               0.000000e+00       9.760370e+05   \n",
       "75%        8.530640e+05               0.000000e+00       2.332399e+06   \n",
       "max        1.303223e+08               1.545629e+07       4.345095e+08   \n",
       "\n",
       "       from_poi_to_this_person  shared_receipt_with_poi   to_messages  \\\n",
       "count               145.000000               145.000000    145.000000   \n",
       "mean                 38.489655               697.765517   1230.013793   \n",
       "std                  74.088359              1075.128126   2232.153003   \n",
       "min                   0.000000                 0.000000      0.000000   \n",
       "25%                   0.000000                 0.000000      0.000000   \n",
       "50%                   4.000000               114.000000    312.000000   \n",
       "75%                  41.000000               900.000000   1607.000000   \n",
       "max                 528.000000              5521.000000  15149.000000   \n",
       "\n",
       "       from_this_person_to_poi  from_messages  \n",
       "count               145.000000     145.000000  \n",
       "mean                 24.455172     361.075862  \n",
       "std                  79.527073    1445.944684  \n",
       "min                   0.000000       0.000000  \n",
       "25%                   0.000000       0.000000  \n",
       "50%                   0.000000      17.000000  \n",
       "75%                  14.000000      52.000000  \n",
       "max                 609.000000   14368.000000  "
      ]
     },
     "execution_count": 16,
     "metadata": {},
     "output_type": "execute_result"
    }
   ],
   "source": [
    "data_df.describe()"
   ]
  },
  {
   "cell_type": "markdown",
   "metadata": {},
   "source": [
    "## Outlier Investigation"
   ]
  },
  {
   "cell_type": "markdown",
   "metadata": {},
   "source": [
    "My first attempt to spot any possible outliers will be visual.\n",
    "We will use Seaborn’s pairplot which present in the same time the distribution of the variables and a scatter plot representation of them"
   ]
  },
  {
   "cell_type": "markdown",
   "metadata": {},
   "source": [
    "We are using 4 variables (\"total_payments\", \"exercised_stock_options\", \"restricted_stock\", \"total_stock_value\") from the data set to plot the graph as these variables has the heighest variance."
   ]
  },
  {
   "cell_type": "code",
   "execution_count": 17,
   "metadata": {},
   "outputs": [
    {
     "data": {
      "text/plain": [
       "<seaborn.axisgrid.PairGrid at 0x278562276a0>"
      ]
     },
     "execution_count": 17,
     "metadata": {},
     "output_type": "execute_result"
    }
   ],
   "source": [
    "sns.pairplot(data=data_df, vars=[\"total_payments\", \"exercised_stock_options\", \"restricted_stock\", \"total_stock_value\"], hue=\"poi\")\n"
   ]
  },
  {
   "cell_type": "markdown",
   "metadata": {},
   "source": [
    "#### There are two datapoints far away from the cluster of the rest. We will use the Total Payments to find them."
   ]
  },
  {
   "cell_type": "code",
   "execution_count": 18,
   "metadata": {
    "scrolled": true
   },
   "outputs": [
    {
     "data": {
      "text/plain": [
       "TOTAL            309886585.0\n",
       "LAY KENNETH L    103559793.0\n",
       "Name: total_payments, dtype: float64"
      ]
     },
     "execution_count": 18,
     "metadata": {},
     "output_type": "execute_result"
    }
   ],
   "source": [
    "data_df.total_payments.nlargest(2)"
   ]
  },
  {
   "cell_type": "code",
   "execution_count": 19,
   "metadata": {
    "scrolled": true
   },
   "outputs": [
    {
     "data": {
      "text/html": [
       "<div>\n",
       "<style>\n",
       "    .dataframe thead tr:only-child th {\n",
       "        text-align: right;\n",
       "    }\n",
       "\n",
       "    .dataframe thead th {\n",
       "        text-align: left;\n",
       "    }\n",
       "\n",
       "    .dataframe tbody tr th {\n",
       "        vertical-align: top;\n",
       "    }\n",
       "</style>\n",
       "<table border=\"1\" class=\"dataframe\">\n",
       "  <thead>\n",
       "    <tr style=\"text-align: right;\">\n",
       "      <th></th>\n",
       "      <th>poi</th>\n",
       "      <th>salary</th>\n",
       "      <th>bonus</th>\n",
       "      <th>long_term_incentive</th>\n",
       "      <th>deferred_income</th>\n",
       "      <th>deferral_payments</th>\n",
       "      <th>loan_advances</th>\n",
       "      <th>other</th>\n",
       "      <th>expenses</th>\n",
       "      <th>director_fees</th>\n",
       "      <th>total_payments</th>\n",
       "      <th>exercised_stock_options</th>\n",
       "      <th>restricted_stock</th>\n",
       "      <th>restricted_stock_deferred</th>\n",
       "      <th>total_stock_value</th>\n",
       "      <th>from_poi_to_this_person</th>\n",
       "      <th>shared_receipt_with_poi</th>\n",
       "      <th>to_messages</th>\n",
       "      <th>from_this_person_to_poi</th>\n",
       "      <th>from_messages</th>\n",
       "    </tr>\n",
       "  </thead>\n",
       "  <tbody>\n",
       "    <tr>\n",
       "      <th>TOTAL</th>\n",
       "      <td>False</td>\n",
       "      <td>26704229.0</td>\n",
       "      <td>97343619.0</td>\n",
       "      <td>48521928.0</td>\n",
       "      <td>-27992891.0</td>\n",
       "      <td>32083396.0</td>\n",
       "      <td>83925000.0</td>\n",
       "      <td>42667589.0</td>\n",
       "      <td>5235198.0</td>\n",
       "      <td>1398517.0</td>\n",
       "      <td>309886585.0</td>\n",
       "      <td>311764000.0</td>\n",
       "      <td>130322299.0</td>\n",
       "      <td>-7576788.0</td>\n",
       "      <td>434509511.0</td>\n",
       "      <td>0.0</td>\n",
       "      <td>0.0</td>\n",
       "      <td>0.0</td>\n",
       "      <td>0.0</td>\n",
       "      <td>0.0</td>\n",
       "    </tr>\n",
       "  </tbody>\n",
       "</table>\n",
       "</div>"
      ],
      "text/plain": [
       "         poi      salary       bonus  long_term_incentive  deferred_income  \\\n",
       "TOTAL  False  26704229.0  97343619.0           48521928.0      -27992891.0   \n",
       "\n",
       "       deferral_payments  loan_advances       other   expenses  director_fees  \\\n",
       "TOTAL         32083396.0     83925000.0  42667589.0  5235198.0      1398517.0   \n",
       "\n",
       "       total_payments  exercised_stock_options  restricted_stock  \\\n",
       "TOTAL     309886585.0              311764000.0       130322299.0   \n",
       "\n",
       "       restricted_stock_deferred  total_stock_value  from_poi_to_this_person  \\\n",
       "TOTAL                 -7576788.0        434509511.0                      0.0   \n",
       "\n",
       "       shared_receipt_with_poi  to_messages  from_this_person_to_poi  \\\n",
       "TOTAL                      0.0          0.0                      0.0   \n",
       "\n",
       "       from_messages  \n",
       "TOTAL            0.0  "
      ]
     },
     "execution_count": 19,
     "metadata": {},
     "output_type": "execute_result"
    }
   ],
   "source": [
    "data_df.loc[['TOTAL']]"
   ]
  },
  {
   "cell_type": "markdown",
   "metadata": {},
   "source": [
    "#### The first one ‘TOTAL’, is the totals on the Payments Schedule and not a person so it should be removed.\n",
    "The second one is not an outlier, it is just the huge payment and stock value o Kenneth Lay. Datapoints like this are not outliers; in fact anomalies like this may lead us to the rest of the POIs. These extreme values lead the rest of the employees to the bottom left corner of the scatterplot. "
   ]
  },
  {
   "cell_type": "code",
   "execution_count": 20,
   "metadata": {
    "collapsed": true
   },
   "outputs": [],
   "source": [
    "data_df.drop(\"TOTAL\", inplace=True)"
   ]
  },
  {
   "cell_type": "code",
   "execution_count": 21,
   "metadata": {},
   "outputs": [
    {
     "data": {
      "text/plain": [
       "<seaborn.axisgrid.PairGrid at 0x27856320320>"
      ]
     },
     "execution_count": 21,
     "metadata": {},
     "output_type": "execute_result"
    }
   ],
   "source": [
    "sns.pairplot(data=data_df, vars=[\"total_payments\", \"exercised_stock_options\", \"restricted_stock\", \"total_stock_value\"], hue=\"poi\")\n"
   ]
  },
  {
   "cell_type": "markdown",
   "metadata": {},
   "source": [
    "#### With the “TOTAL” removed the scatter plots are much more uncluttered and we can see some trends on them.\n",
    "We can notice also a negative value on Restricted Stock variable, an indication that more outliers may exist.\n",
    "We can make a first sanity by checking if the individual values sum with the totals of each category (Total Payments, Total Stock Value)."
   ]
  },
  {
   "cell_type": "code",
   "execution_count": 22,
   "metadata": {},
   "outputs": [
    {
     "name": "stdout",
     "output_type": "stream",
     "text": [
      "salary                  26704229.0\n",
      "bonus                   97343619.0\n",
      "long_term_incentive     48521928.0\n",
      "deferred_income        -27890391.0\n",
      "deferral_payments       31980896.0\n",
      "loan_advances           83925000.0\n",
      "other                   42805453.0\n",
      "expenses                 5094049.0\n",
      "director_fees            1437166.0\n",
      "total_payments         325304226.0\n",
      "dtype: float64\n",
      "---\n",
      "Sum all 'payment' variables: 309921949.0\n"
     ]
    }
   ],
   "source": [
    "print(data_df.sum()[1:11])\n",
    "print(\"---\")\n",
    "print(\"Sum all 'payment' variables:\", sum(data_df.sum()[1:10]))\n"
   ]
  },
  {
   "cell_type": "code",
   "execution_count": 23,
   "metadata": {},
   "outputs": [
    {
     "name": "stdout",
     "output_type": "stream",
     "text": [
      "exercised_stock_options      298915485.0\n",
      "restricted_stock             125069226.0\n",
      "restricted_stock_deferred     10572178.0\n",
      "total_stock_value            419009128.0\n",
      "dtype: float64\n",
      "---\n",
      "Sum all 'stock' variables: 434556889.0\n"
     ]
    }
   ],
   "source": [
    "print(data_df.sum()[11:15])\n",
    "print(\"---\")\n",
    "print(\"Sum all 'stock' variables:\", sum(data_df.sum()[11:14]))"
   ]
  },
  {
   "cell_type": "markdown",
   "metadata": {},
   "source": [
    "#### We can see that the totals do not match. We need to check each employee by employee data to find the errors."
   ]
  },
  {
   "cell_type": "markdown",
   "metadata": {},
   "source": [
    "Now to find the error we will find the sum of all the variable from column 2-11 and compare with the value of the 11th variable (\"Total_payment\").And if the value doenst match we will list those emplyees in the new list.\n",
    "Same way we will be comparing the sum of all the variables from column 12-15 and cross check with values of column 15(\"Total Stock\").And if the value doesnt match we will list the emplyee detail in the list"
   ]
  },
  {
   "cell_type": "code",
   "execution_count": 24,
   "metadata": {},
   "outputs": [
    {
     "data": {
      "text/html": [
       "<div>\n",
       "<style>\n",
       "    .dataframe thead tr:only-child th {\n",
       "        text-align: right;\n",
       "    }\n",
       "\n",
       "    .dataframe thead th {\n",
       "        text-align: left;\n",
       "    }\n",
       "\n",
       "    .dataframe tbody tr th {\n",
       "        vertical-align: top;\n",
       "    }\n",
       "</style>\n",
       "<table border=\"1\" class=\"dataframe\">\n",
       "  <thead>\n",
       "    <tr style=\"text-align: right;\">\n",
       "      <th></th>\n",
       "      <th>poi</th>\n",
       "      <th>salary</th>\n",
       "      <th>bonus</th>\n",
       "      <th>long_term_incentive</th>\n",
       "      <th>deferred_income</th>\n",
       "      <th>deferral_payments</th>\n",
       "      <th>loan_advances</th>\n",
       "      <th>other</th>\n",
       "      <th>expenses</th>\n",
       "      <th>director_fees</th>\n",
       "      <th>total_payments</th>\n",
       "      <th>exercised_stock_options</th>\n",
       "      <th>restricted_stock</th>\n",
       "      <th>restricted_stock_deferred</th>\n",
       "      <th>total_stock_value</th>\n",
       "      <th>from_poi_to_this_person</th>\n",
       "      <th>shared_receipt_with_poi</th>\n",
       "      <th>to_messages</th>\n",
       "      <th>from_this_person_to_poi</th>\n",
       "      <th>from_messages</th>\n",
       "    </tr>\n",
       "  </thead>\n",
       "  <tbody>\n",
       "    <tr>\n",
       "      <th>BELFER ROBERT</th>\n",
       "      <td>False</td>\n",
       "      <td>0.0</td>\n",
       "      <td>0.0</td>\n",
       "      <td>0.0</td>\n",
       "      <td>0.0</td>\n",
       "      <td>-102500.0</td>\n",
       "      <td>0.0</td>\n",
       "      <td>0.0</td>\n",
       "      <td>0.0</td>\n",
       "      <td>3285.0</td>\n",
       "      <td>102500.0</td>\n",
       "      <td>3285.0</td>\n",
       "      <td>0.0</td>\n",
       "      <td>44093.0</td>\n",
       "      <td>-44093.0</td>\n",
       "      <td>0.0</td>\n",
       "      <td>0.0</td>\n",
       "      <td>0.0</td>\n",
       "      <td>0.0</td>\n",
       "      <td>0.0</td>\n",
       "    </tr>\n",
       "    <tr>\n",
       "      <th>BHATNAGAR SANJAY</th>\n",
       "      <td>False</td>\n",
       "      <td>0.0</td>\n",
       "      <td>0.0</td>\n",
       "      <td>0.0</td>\n",
       "      <td>0.0</td>\n",
       "      <td>0.0</td>\n",
       "      <td>0.0</td>\n",
       "      <td>137864.0</td>\n",
       "      <td>0.0</td>\n",
       "      <td>137864.0</td>\n",
       "      <td>15456290.0</td>\n",
       "      <td>2604490.0</td>\n",
       "      <td>-2604490.0</td>\n",
       "      <td>15456290.0</td>\n",
       "      <td>0.0</td>\n",
       "      <td>0.0</td>\n",
       "      <td>463.0</td>\n",
       "      <td>523.0</td>\n",
       "      <td>1.0</td>\n",
       "      <td>29.0</td>\n",
       "    </tr>\n",
       "  </tbody>\n",
       "</table>\n",
       "</div>"
      ],
      "text/plain": [
       "                    poi  salary  bonus  long_term_incentive  deferred_income  \\\n",
       "BELFER ROBERT     False     0.0    0.0                  0.0              0.0   \n",
       "BHATNAGAR SANJAY  False     0.0    0.0                  0.0              0.0   \n",
       "\n",
       "                  deferral_payments  loan_advances     other  expenses  \\\n",
       "BELFER ROBERT             -102500.0            0.0       0.0       0.0   \n",
       "BHATNAGAR SANJAY                0.0            0.0  137864.0       0.0   \n",
       "\n",
       "                  director_fees  total_payments  exercised_stock_options  \\\n",
       "BELFER ROBERT            3285.0        102500.0                   3285.0   \n",
       "BHATNAGAR SANJAY       137864.0      15456290.0                2604490.0   \n",
       "\n",
       "                  restricted_stock  restricted_stock_deferred  \\\n",
       "BELFER ROBERT                  0.0                    44093.0   \n",
       "BHATNAGAR SANJAY        -2604490.0                 15456290.0   \n",
       "\n",
       "                  total_stock_value  from_poi_to_this_person  \\\n",
       "BELFER ROBERT              -44093.0                      0.0   \n",
       "BHATNAGAR SANJAY                0.0                      0.0   \n",
       "\n",
       "                  shared_receipt_with_poi  to_messages  \\\n",
       "BELFER ROBERT                         0.0          0.0   \n",
       "BHATNAGAR SANJAY                    463.0        523.0   \n",
       "\n",
       "                  from_this_person_to_poi  from_messages  \n",
       "BELFER ROBERT                         0.0            0.0  \n",
       "BHATNAGAR SANJAY                      1.0           29.0  "
      ]
     },
     "execution_count": 24,
     "metadata": {},
     "output_type": "execute_result"
    }
   ],
   "source": [
    "alist = []\n",
    "for line in data_df.itertuples():\n",
    "    if sum(line[2:11]) != line[11] or sum(line[12:15]) != line[15]:\n",
    "        alist.append(line[0])\n",
    "data_df.loc[alist]"
   ]
  },
  {
   "cell_type": "code",
   "execution_count": 25,
   "metadata": {},
   "outputs": [
    {
     "data": {
      "text/plain": [
       "poi                           False\n",
       "salary                            0\n",
       "bonus                             0\n",
       "long_term_incentive               0\n",
       "deferred_income                   0\n",
       "deferral_payments           -102500\n",
       "loan_advances                     0\n",
       "other                             0\n",
       "expenses                          0\n",
       "director_fees                  3285\n",
       "total_payments               102500\n",
       "exercised_stock_options        3285\n",
       "restricted_stock                  0\n",
       "restricted_stock_deferred     44093\n",
       "total_stock_value            -44093\n",
       "from_poi_to_this_person           0\n",
       "shared_receipt_with_poi           0\n",
       "to_messages                       0\n",
       "from_this_person_to_poi           0\n",
       "from_messages                     0\n",
       "Name: BELFER ROBERT, dtype: object"
      ]
     },
     "execution_count": 25,
     "metadata": {},
     "output_type": "execute_result"
    }
   ],
   "source": [
    "data_df.loc[\"BELFER ROBERT\", :]"
   ]
  },
  {
   "cell_type": "code",
   "execution_count": 26,
   "metadata": {
    "collapsed": true
   },
   "outputs": [],
   "source": [
    "data_df.loc[\"BELFER ROBERT\", :] = [\n",
    "    False, 0, 0, 0, 0, -102500, 3285, 0, 0, 102500, 3285, -44093, 0, 44093, 0,\n",
    "    0, 0, 0, 0, 0\n",
    "]\n",
    "data_df.loc[\"BHATNAGAR SANJAY\", :] = [\n",
    "    False, 0, 0, 0, 0, 0, 137864, 0, 0, 0, 137864, -2604490, 15456290, 2604490,\n",
    "    15456290, 0, 463, 523, 1, 29\n",
    "]"
   ]
  },
  {
   "cell_type": "markdown",
   "metadata": {},
   "source": [
    "#### Now that we do not have any more outliers we can plot the two aggregated variables, Total Payments and Total Stock Value."
   ]
  },
  {
   "cell_type": "code",
   "execution_count": 27,
   "metadata": {},
   "outputs": [
    {
     "data": {
      "image/png": "[encoded data removed]",
      "text/plain": [
       "<matplotlib.figure.Figure at 0x278562277b8>"
      ]
     },
     "metadata": {},
     "output_type": "display_data"
    },
    {
     "data": {
      "image/png": "[encoded data removed]",
      "text/plain": [
       "<matplotlib.figure.Figure at 0x27856f40a58>"
      ]
     },
     "metadata": {},
     "output_type": "display_data"
    },
    {
     "data": {
      "image/png": "[encoded data removed]",
      "text/plain": [
       "<matplotlib.figure.Figure at 0x27857a0fd30>"
      ]
     },
     "metadata": {},
     "output_type": "display_data"
    }
   ],
   "source": [
    "fig1, ax = plt.subplots()\n",
    "for poi, data in data_df.groupby(by=\"poi\"):\n",
    "    ax.plot(data['total_payments'],data['total_stock_value'],'o', label=poi)\n",
    "ax.legend()\n",
    "plt.xscale('symlog')\n",
    "plt.yscale('symlog')\n",
    "plt.xlabel(\"Total Payments\")\n",
    "plt.ylabel(\"Total Stock Value\")\n",
    "\n",
    "plt.show()"
   ]
  },
  {
   "cell_type": "markdown",
   "metadata": {},
   "source": [
    "We can see that there are some persons with zero salary or bonus (or both) and none of them is a POI. Since we have a sparse number of POIs it might be beneficial to remove them to have a more dense dataset. We will create a copy of the dataset with the specific persons removed for future evaluation."
   ]
  },
  {
   "cell_type": "code",
   "execution_count": 28,
   "metadata": {},
   "outputs": [
    {
     "data": {
      "text/plain": [
       "(81, 20)"
      ]
     },
     "execution_count": 28,
     "metadata": {},
     "output_type": "execute_result"
    }
   ],
   "source": [
    "data_nbs = data_df[data_df.salary > 0]\n",
    "data_nbs = data_nbs[data_nbs.bonus > 0]\n",
    "data_nbs.shape"
   ]
  },
  {
   "cell_type": "markdown",
   "metadata": {},
   "source": [
    "We can notice that the indexes / names in the dataset are in the form Sirname Name Initial. We will search all the indexes using regular expressions and print the indexes that do not follow this pattern."
   ]
  },
  {
   "cell_type": "code",
   "execution_count": 29,
   "metadata": {},
   "outputs": [
    {
     "name": "stdout",
     "output_type": "stream",
     "text": [
      "BLAKE JR. NORMAN P\n",
      "BOWEN JR RAYMOND M\n",
      "DERRICK JR. JAMES V\n",
      "DONAHUE JR JEFFREY M\n",
      "GARLAND C KEVIN\n",
      "GLISAN JR BEN F\n",
      "OVERDYKE JR JERE C\n",
      "PEREIRA PAULO V. FERRAZ\n",
      "SULLIVAN-SHAKLOVITZ COLLEEN\n",
      "THE TRAVEL AGENCY IN THE PARK\n",
      "WALLS JR ROBERT H\n",
      "WHITE JR THOMAS E\n",
      "WINOKUR JR. HERBERT S\n",
      "YEAGER F SCOTT\n"
     ]
    }
   ],
   "source": [
    "for index in data_df.index:\n",
    "    if re.match('^[A-Z]+\\s[A-Z]+(\\s[A-Z])?$', index):\n",
    "        continue\n",
    "    else:\n",
    "        print(index)"
   ]
  },
  {
   "cell_type": "code",
   "execution_count": 30,
   "metadata": {},
   "outputs": [
    {
     "data": {
      "text/html": [
       "<div>\n",
       "<style>\n",
       "    .dataframe thead tr:only-child th {\n",
       "        text-align: right;\n",
       "    }\n",
       "\n",
       "    .dataframe thead th {\n",
       "        text-align: left;\n",
       "    }\n",
       "\n",
       "    .dataframe tbody tr th {\n",
       "        vertical-align: top;\n",
       "    }\n",
       "</style>\n",
       "<table border=\"1\" class=\"dataframe\">\n",
       "  <thead>\n",
       "    <tr style=\"text-align: right;\">\n",
       "      <th></th>\n",
       "      <th>poi</th>\n",
       "      <th>salary</th>\n",
       "      <th>bonus</th>\n",
       "      <th>long_term_incentive</th>\n",
       "      <th>deferred_income</th>\n",
       "      <th>deferral_payments</th>\n",
       "      <th>loan_advances</th>\n",
       "      <th>other</th>\n",
       "      <th>expenses</th>\n",
       "      <th>director_fees</th>\n",
       "      <th>total_payments</th>\n",
       "      <th>exercised_stock_options</th>\n",
       "      <th>restricted_stock</th>\n",
       "      <th>restricted_stock_deferred</th>\n",
       "      <th>total_stock_value</th>\n",
       "      <th>from_poi_to_this_person</th>\n",
       "      <th>shared_receipt_with_poi</th>\n",
       "      <th>to_messages</th>\n",
       "      <th>from_this_person_to_poi</th>\n",
       "      <th>from_messages</th>\n",
       "    </tr>\n",
       "  </thead>\n",
       "  <tbody>\n",
       "    <tr>\n",
       "      <th>THE TRAVEL AGENCY IN THE PARK</th>\n",
       "      <td>False</td>\n",
       "      <td>0.0</td>\n",
       "      <td>0.0</td>\n",
       "      <td>0.0</td>\n",
       "      <td>0.0</td>\n",
       "      <td>0.0</td>\n",
       "      <td>0.0</td>\n",
       "      <td>362096.0</td>\n",
       "      <td>0.0</td>\n",
       "      <td>0.0</td>\n",
       "      <td>362096.0</td>\n",
       "      <td>0.0</td>\n",
       "      <td>0.0</td>\n",
       "      <td>0.0</td>\n",
       "      <td>0.0</td>\n",
       "      <td>0.0</td>\n",
       "      <td>0.0</td>\n",
       "      <td>0.0</td>\n",
       "      <td>0.0</td>\n",
       "      <td>0.0</td>\n",
       "    </tr>\n",
       "  </tbody>\n",
       "</table>\n",
       "</div>"
      ],
      "text/plain": [
       "                                 poi  salary  bonus  long_term_incentive  \\\n",
       "THE TRAVEL AGENCY IN THE PARK  False     0.0    0.0                  0.0   \n",
       "\n",
       "                               deferred_income  deferral_payments  \\\n",
       "THE TRAVEL AGENCY IN THE PARK              0.0                0.0   \n",
       "\n",
       "                               loan_advances     other  expenses  \\\n",
       "THE TRAVEL AGENCY IN THE PARK            0.0  362096.0       0.0   \n",
       "\n",
       "                               director_fees  total_payments  \\\n",
       "THE TRAVEL AGENCY IN THE PARK            0.0        362096.0   \n",
       "\n",
       "                               exercised_stock_options  restricted_stock  \\\n",
       "THE TRAVEL AGENCY IN THE PARK                      0.0               0.0   \n",
       "\n",
       "                               restricted_stock_deferred  total_stock_value  \\\n",
       "THE TRAVEL AGENCY IN THE PARK                        0.0                0.0   \n",
       "\n",
       "                               from_poi_to_this_person  \\\n",
       "THE TRAVEL AGENCY IN THE PARK                      0.0   \n",
       "\n",
       "                               shared_receipt_with_poi  to_messages  \\\n",
       "THE TRAVEL AGENCY IN THE PARK                      0.0          0.0   \n",
       "\n",
       "                               from_this_person_to_poi  from_messages  \n",
       "THE TRAVEL AGENCY IN THE PARK                      0.0            0.0  "
      ]
     },
     "execution_count": 30,
     "metadata": {},
     "output_type": "execute_result"
    }
   ],
   "source": [
    "data_df.loc[[\"THE TRAVEL AGENCY IN THE PARK\"]]"
   ]
  },
  {
   "cell_type": "markdown",
   "metadata": {},
   "source": [
    "There is a “suspicious” index. The THE TRAVEL AGENCY IN THE PARK, isn’t obviously a name of an employee.So we need to drop it from the data set."
   ]
  },
  {
   "cell_type": "code",
   "execution_count": 31,
   "metadata": {
    "collapsed": true
   },
   "outputs": [],
   "source": [
    "data_df = data_df.drop([\"THE TRAVEL AGENCY IN THE PARK\"], axis=0)"
   ]
  },
  {
   "cell_type": "markdown",
   "metadata": {},
   "source": [
    "#### As a final step in outlier investigation, We need to search for extreme values.The extreme values is an essential information and they should be kept but let’s spot them first.\n",
    "We will be using Tukey Fences with 3 IQRs for every single feature."
   ]
  },
  {
   "cell_type": "code",
   "execution_count": 32,
   "metadata": {
    "collapsed": true
   },
   "outputs": [],
   "source": [
    "def outliers_iqr(dataframe, features):\n",
    "    result = set()\n",
    "    for feature in features:\n",
    "        ys = dataframe[[feature]]\n",
    "        quartile_1, quartile_3 = np.percentile(ys, [25, 75])\n",
    "        iqr = quartile_3 - quartile_1\n",
    "        lower_bound = int(round(quartile_1 - (iqr * 3)))\n",
    "        upper_bound = int(round(quartile_3 + (iqr * 3)))\n",
    "        partial_result = list(np.where((ys > upper_bound) | (ys < lower_bound))[0])\n",
    "        print(feature, len(partial_result))\n",
    "        result.update(partial_result)\n",
    "        \n",
    "    print(\"-----------------------------------------------------\")\n",
    "    print(\"\")\n",
    "    print(\"Total number of records with extreme values: \" + str(len(result)))\n",
    "    \n",
    "    return list(result)"
   ]
  },
  {
   "cell_type": "code",
   "execution_count": 33,
   "metadata": {},
   "outputs": [
    {
     "name": "stdout",
     "output_type": "stream",
     "text": [
      "salary 1\n",
      "bonus 5\n",
      "long_term_incentive 11\n",
      "deferred_income 24\n",
      "deferral_payments 34\n",
      "loan_advances 5\n",
      "other 13\n",
      "expenses 2\n",
      "director_fees 15\n",
      "total_payments 5\n",
      "exercised_stock_options 11\n",
      "restricted_stock 10\n",
      "restricted_stock_deferred 17\n",
      "total_stock_value 11\n",
      "from_poi_to_this_person 11\n",
      "shared_receipt_with_poi 4\n",
      "to_messages 6\n",
      "from_this_person_to_poi 13\n",
      "from_messages 20\n",
      "-----------------------------------------------------\n",
      "\n",
      "Total number of records with extreme values: 93\n"
     ]
    }
   ],
   "source": [
    "cols.remove(\"poi\")\n",
    "xtr_values =outliers_iqr(data_df, cols)\n",
    "\n"
   ]
  },
  {
   "cell_type": "code",
   "execution_count": 34,
   "metadata": {},
   "outputs": [
    {
     "name": "stdout",
     "output_type": "stream",
     "text": [
      "POI density on the original dataset: 0.125874125874\n",
      "POI density on the subset with the extreme values: 0.161290322581\n",
      "Difference: 0.281362007168\n"
     ]
    },
    {
     "name": "stderr",
     "output_type": "stream",
     "text": [
      "C:\\Users\\gunjeet singh\\Anaconda3\\lib\\site-packages\\ipykernel_launcher.py:4: DeprecationWarning: \n",
      ".ix is deprecated. Please use\n",
      ".loc for label based indexing or\n",
      ".iloc for positional indexing\n",
      "\n",
      "See the documentation here:\n",
      "http://pandas.pydata.org/pandas-docs/stable/indexing.html#ix-indexer-is-deprecated\n",
      "  after removing the cwd from sys.path.\n"
     ]
    }
   ],
   "source": [
    "a = data_df.loc[:, \"poi\"].value_counts()\n",
    "poi_density = a[1]/(a[0]+a[1])\n",
    "print(\"POI density on the original dataset: \" + str(poi_density))\n",
    "a = data_df.ix[xtr_values, \"poi\"].value_counts()\n",
    "poi_density_xtr = a[1]/(a[0]+a[1])\n",
    "poi_density_xtr = a[1]/(a[0]+a[1])\n",
    "print(\"POI density on the subset with the extreme values: \" + str(poi_density_xtr))\n",
    "\n",
    "print(\"Difference: \" +str((poi_density_xtr - poi_density) / poi_density))\n",
    "\n"
   ]
  },
  {
   "cell_type": "markdown",
   "metadata": {},
   "source": [
    "We see that in the subset of employees with extreme value to at least one variable, there are 28% more POIs than in the general dataset. This justify our intuition that the extreme values are related with being a POI, thus we will not remove them."
   ]
  },
  {
   "cell_type": "markdown",
   "metadata": {},
   "source": [
    "Now that the dataset is clear of outliers we can find the final dimensions and split the labels from the features and have a first scoring as a baseline for the rest of the analysis. I will use the LinearSVC classifier which seems the more appropriate to begin."
   ]
  },
  {
   "cell_type": "code",
   "execution_count": 35,
   "metadata": {},
   "outputs": [
    {
     "data": {
      "text/plain": [
       "(143, 20)"
      ]
     },
     "execution_count": 35,
     "metadata": {},
     "output_type": "execute_result"
    }
   ],
   "source": [
    "data_df.shape"
   ]
  },
  {
   "cell_type": "code",
   "execution_count": 36,
   "metadata": {},
   "outputs": [
    {
     "data": {
      "text/plain": [
       "False    125\n",
       "True      18\n",
       "Name: poi, dtype: int64"
      ]
     },
     "execution_count": 36,
     "metadata": {},
     "output_type": "execute_result"
    }
   ],
   "source": [
    "data_df.loc[:, \"poi\"].value_counts()"
   ]
  },
  {
   "cell_type": "code",
   "execution_count": 37,
   "metadata": {
    "collapsed": true
   },
   "outputs": [],
   "source": [
    "def do_split(data):\n",
    "    X = data.copy()\n",
    "    #Removing the poi labels and put them in a separate array, transforming it\n",
    "    #from True / False to 0 / 1\n",
    "    y = X.pop(\"poi\").astype(int)\n",
    "    \n",
    "    return X, y, "
   ]
  },
  {
   "cell_type": "code",
   "execution_count": 38,
   "metadata": {
    "collapsed": true
   },
   "outputs": [],
   "source": [
    "X, y = do_split(data_nbs)"
   ]
  },
  {
   "cell_type": "code",
   "execution_count": 39,
   "metadata": {},
   "outputs": [
    {
     "name": "stdout",
     "output_type": "stream",
     "text": [
      "LinearSVC(C=1.0, class_weight=None, dual=True, fit_intercept=True,\n",
      "     intercept_scaling=1, loss='squared_hinge', max_iter=1000,\n",
      "     multi_class='ovr', penalty='l2', random_state=42, tol=0.0001,\n",
      "     verbose=0)\n",
      "\tAccuracy: 0.72980\tPrecision: 0.20324\tRecall: 0.35150\tF1: 0.25756\tF2: 0.30675\n",
      "\tTotal predictions: 15000\tTrue positives:  703\tFalse positives: 2756\tFalse negatives: 1297\tTrue negatives: 10244\n",
      "\n"
     ]
    }
   ],
   "source": [
    "#test_classifier() demands the dataset in a dictionary and the features labels\n",
    "#in a list with 'poi' first.\n",
    "features = data_df.columns.tolist()\n",
    "data = data_df.to_dict(orient='index')\n",
    "\n",
    "test_classifier(LinearSVC(random_state=42), data, features)\n"
   ]
  },
  {
   "cell_type": "markdown",
   "metadata": {},
   "source": [
    "We are interested in the ability of the classifier not to label as Person Of Interest (POI) a person that is not, and also to find all the POIs so the metrics that we are most interested are Precision and Recall. Since we want to maximize both in the same time we will try to maximize the F1 score which can be interpreted as a weighted average of the precision and recall."
   ]
  },
  {
   "cell_type": "markdown",
   "metadata": {},
   "source": [
    "We can see that the initial scores are very low with the LinearSVC classifier being poor in classifying the right persons."
   ]
  },
  {
   "cell_type": "markdown",
   "metadata": {},
   "source": [
    "So now we will apply the transforming features on the variables and add them to the data set.We will find the propotion of each of the variable and try to add them in the data frame and compare the original variable with new transforming feature  variable in the data  set"
   ]
  },
  {
   "cell_type": "markdown",
   "metadata": {},
   "source": [
    "## Optimize Feature Selection/Engineering"
   ]
  },
  {
   "cell_type": "markdown",
   "metadata": {},
   "source": [
    "#### In some cases the value of a variable is less important than its proportion to an aggregated value."
   ]
  },
  {
   "cell_type": "code",
   "execution_count": 40,
   "metadata": {
    "collapsed": true
   },
   "outputs": [],
   "source": [
    "data = data_df.copy()\n",
    "data.loc[:, \"salary_p\"] = data.loc[:, \"salary\"]/data.loc[:, \"total_payments\"]\n",
    "data.loc[:, \"deferral_payments_p\"] = data.loc[:, \"deferral_payments\"]/data.loc[:, \"total_payments\"]\n",
    "data.loc[:, \"loan_advances_p\"] = data.loc[:, \"loan_advances\"]/data.loc[:, \"total_payments\"]\n",
    "data.loc[:, \"bonus_p\"] = data.loc[:, \"bonus\"]/data.loc[:, \"total_payments\"]\n",
    "data.loc[:, \"deferred_income_p\"] = data.loc[:, \"deferred_income\"]/data.loc[:, \"total_payments\"]\n",
    "data.loc[:, \"expenses_p\"] = data.loc[:, \"expenses\"]/data.loc[:, \"total_payments\"]\n",
    "data.loc[:, \"other_p\"] = data.loc[:, \"other\"]/data.loc[:, \"total_payments\"]\n",
    "data.loc[:, \"long_term_incentive_p\"] = data.loc[:, \"long_term_incentive\"]/data.loc[:, \"total_payments\"]\n",
    "data.loc[:, \"director_fees_p\"] = data.loc[:, \"director_fees\"]/data.loc[:, \"total_payments\"]\n",
    "\n",
    "data.loc[:, \"restricted_stock_deferred_p\"] = data.loc[:, \"restricted_stock_deferred\"]/data.loc[:, \"total_stock_value\"]\n",
    "data.loc[:, \"exercised_stock_options_p\"] = data.loc[:, \"exercised_stock_options\"]/data.loc[:, \"total_stock_value\"]\n",
    "data.loc[:, \"restricted_stock_p\"] = data.loc[:, \"restricted_stock\"]/data.loc[:, \"total_stock_value\"]\n",
    "\n",
    "data.loc[:, \"from_poi_to_this_person_p\"] = data.loc[:, \"from_poi_to_this_person\"]/data.loc[:, \"to_messages\"]\n",
    "data.loc[:, \"shared_receipt_with_poi_p\"] = data.loc[:, \"shared_receipt_with_poi\"]/data.loc[:, \"to_messages\"]\n",
    "\n",
    "data.loc[:, \"from_this_person_to_poi_p\"] = data.loc[:, \"from_this_person_to_poi\"]/data.loc[:, \"from_messages\"]\n",
    "    \n",
    "data.replace(to_replace=np.NaN, value=0, inplace=True)\n",
    "data.replace(to_replace=np.inf, value=0, inplace=True)\n",
    "data.replace(to_replace=-np.inf, value=0, inplace=True)"
   ]
  },
  {
   "cell_type": "markdown",
   "metadata": {},
   "source": [
    "### Now we can plot the importance of the features of the “enriched” dataset by using the same classifier."
   ]
  },
  {
   "cell_type": "code",
   "execution_count": 41,
   "metadata": {
    "collapsed": true
   },
   "outputs": [],
   "source": [
    "def plot_importance(dataset):\n",
    "    X, y = do_split(dataset)\n",
    "\n",
    "    selector = SelectPercentile(percentile=100)\n",
    "    a = selector.fit(X, y)\n",
    "\n",
    "    plt.figure(figsize=(12,9))\n",
    "    sns.barplot(y=X.columns, x=a.scores_)\n",
    "\n"
   ]
  },
  {
   "cell_type": "code",
   "execution_count": 42,
   "metadata": {},
   "outputs": [],
   "source": [
    "plot_importance(data)\n",
    "\n"
   ]
  },
  {
   "cell_type": "markdown",
   "metadata": {},
   "source": [
    "Comparing the newly created features with the original we can see that the proportions of “Long Term Incentive”, “Restricted Stock Deferred” and “From This Person to POI” score higher than the original features. We will keep these and remove the original values. to avoid bias the model towards a specific feature by using both the original value and its proportion."
   ]
  },
  {
   "cell_type": "code",
   "execution_count": 43,
   "metadata": {
    "collapsed": true
   },
   "outputs": [],
   "source": [
    "#Adding the proportions\n",
    "data_df.loc[:, \"long_term_incentive_p\"] = data_df.loc[:, \"long_term_incentive\"]/data_df.loc[:, \"total_payments\"]\n",
    "data_df.loc[:, \"restricted_stock_deferred_p\"] = data_df.loc[:, \"restricted_stock_deferred\"]/data_df.loc[:, \"total_stock_value\"]\n",
    "data_df.loc[:, \"from_this_person_to_poi_p\"] = data_df.loc[:, \"from_this_person_to_poi\"]/data_df.loc[:, \"from_messages\"]\n",
    "#Removing the original values.\n",
    "data_df.drop(\"long_term_incentive\", axis=1)\n",
    "data_df.drop(\"restricted_stock_deferred\", axis=1)\n",
    "data_df.drop(\"from_this_person_to_poi\", axis=1)\n",
    "#Correcting NaN and infinity values created by zero divisions\n",
    "data_df.replace(to_replace=np.NaN, value=0, inplace=True)\n",
    "data_df.replace(to_replace=np.inf, value=0, inplace=True)\n",
    "data_df.replace(to_replace=-np.inf, value=0, inplace=True)"
   ]
  },
  {
   "cell_type": "code",
   "execution_count": 44,
   "metadata": {},
   "outputs": [],
   "source": [
    "plot_importance(data_df)"
   ]
  },
  {
   "cell_type": "markdown",
   "metadata": {},
   "source": [
    "## Features Scaling"
   ]
  },
  {
   "cell_type": "markdown",
   "metadata": {},
   "source": [
    "There are features in the dataset with big differences in scaling. For example salary appears with values between 0 and 2.5 millions while from_this_person_to_poi_p takes values in the range [0,1). \n",
    "So we need to scale them"
   ]
  },
  {
   "cell_type": "markdown",
   "metadata": {},
   "source": [
    "## Nearest Neighbors"
   ]
  },
  {
   "cell_type": "code",
   "execution_count": null,
   "metadata": {},
   "outputs": [],
   "source": [
    "#Nearest Neighbors\n",
    "#warnings.filterwarnings('ignore')\n",
    "\n",
    "pipe = Pipeline([('scale', MaxAbsScaler()),\n",
    "                 ('reduce_dim', PCA(random_state=42)),\n",
    "                 ('classify', KNeighborsClassifier())])\n",
    "\n",
    "N_FEATURES_OPTIONS = list(range(2, 21))\n",
    "N_NEIGHBORS = [1, 3, 5]\n",
    "\n",
    "param_grid = [\n",
    "    {\n",
    "        'scale': [None, MaxAbsScaler()],\n",
    "        'reduce_dim': [PCA(random_state=42)],\n",
    "        'reduce_dim__n_components': N_FEATURES_OPTIONS,\n",
    "        'classify__weights': [\"uniform\", \"distance\"],\n",
    "        'classify__n_neighbors': N_NEIGHBORS,\n",
    "        'classify__p':[1, 2]\n",
    "    },\n",
    "    {\n",
    "        'scale': [None, MaxAbsScaler()],\n",
    "        'reduce_dim': [SelectKBest()],\n",
    "        'reduce_dim__k': N_FEATURES_OPTIONS,\n",
    "        'classify__weights': [\"uniform\", \"distance\"],\n",
    "        'classify__n_neighbors': N_NEIGHBORS,\n",
    "        'classify__p':[1, 2]\n",
    "    },\n",
    "]\n",
    "\n",
    "cv = StratifiedShuffleSplit(random_state=42)\n",
    "grid = GridSearchCV(\n",
    "    pipe, param_grid=param_grid, cv=cv, scoring='f1', n_jobs=-1)\n",
    "\n",
    "grid.fit(X, y)\n",
    "\n",
    "print(grid.best_estimator_)"
   ]
  },
  {
   "cell_type": "code",
   "execution_count": 45,
   "metadata": {},
   "outputs": [
    {
     "name": "stdout",
     "output_type": "stream",
     "text": [
      "Pipeline(memory=None,\n",
      "     steps=[('scale', MaxAbsScaler(copy=True)), ('reduce_dim', PCA(copy=True, iterated_power='auto', n_components=2, random_state=42,\n",
      "  svd_solver='auto', tol=0.0, whiten=False)), ('classify', KNeighborsClassifier(algorithm='auto', leaf_size=30, metric='minkowski',\n",
      "           metric_params=None, n_jobs=1, n_neighbors=3, p=2,\n",
      "           weights='distance'))])\n",
      "\tAccuracy: 0.85593\tPrecision: 0.43385\tRecall: 0.26400\tF1: 0.32826\tF2: 0.28643\n",
      "\tTotal predictions: 15000\tTrue positives:  528\tFalse positives:  689\tFalse negatives: 1472\tTrue negatives: 12311\n",
      "\n"
     ]
    }
   ],
   "source": [
    "features = data_df.columns.tolist()\n",
    "data = data_df.to_dict(orient='index')\n",
    "test_classifier(grid.best_estimator_, data, features)\n",
    "\n"
   ]
  },
  {
   "cell_type": "markdown",
   "metadata": {},
   "source": [
    "### Predicction:\n",
    "\n",
    "Predict on the Test data and print the POIs and their email ids"
   ]
  },
  {
   "cell_type": "code",
   "execution_count": 47,
   "metadata": {},
   "outputs": [
    {
     "data": {
      "text/plain": [
       "BELDEN TIMOTHY N                tim.belden@enron.com\n",
       "BHATNAGAR SANJAY          sanjay.bhatnagar@enron.com\n",
       "BOWEN JR RAYMOND M           raymond.bowen@enron.com\n",
       "CALGER CHRISTOPHER F    christopher.calger@enron.com\n",
       "CAUSEY RICHARD A            richard.causey@enron.com\n",
       "COLWELL WESLEY                 wes.colwell@enron.com\n",
       "DELAINEY DAVID W            david.delainey@enron.com\n",
       "FASTOW ANDREW S              andrew.fastow@enron.com\n",
       "GLISAN JR BEN F                 ben.glisan@enron.com\n",
       "HIRKO JOSEPH                     joe.hirko@enron.com\n",
       "KOENIG MARK E                  mark.koenig@enron.com\n",
       "KOPPER MICHAEL J            michael.kopper@enron.com\n",
       "LAY KENNETH L                  kenneth.lay@enron.com\n",
       "RICE KENNETH D                    ken.rice@enron.com\n",
       "RIEKER PAULA H                paula.rieker@enron.com\n",
       "SHELBY REX                      rex.shelby@enron.com\n",
       "SKILLING JEFFREY K           jeff.skilling@enron.com\n",
       "YEAGER F SCOTT                scott.yeager@enron.com\n",
       "Name: email_address, dtype: object"
      ]
     },
     "execution_count": 47,
     "metadata": {},
     "output_type": "execute_result"
    }
   ],
   "source": [
    "## Prediction\n",
    "prediction = grid.predict(X)\n",
    "\n",
    "## Build DataFrame\n",
    "pred = pd.DataFrame(prediction,index = X.index,columns=[\"poi\"])\n",
    "pred.poi.value_counts()\n",
    "pred[pred.poi == 1].index\n",
    "\n",
    "## Identify thee email id's of POI\n",
    "raw_data.ix[pred[pred.poi == 1].index].email_address"
   ]
  },
  {
   "cell_type": "markdown",
   "metadata": {},
   "source": [
    "### Sequential Exception Technique (SET):\n",
    "\n",
    "Identify the POIs using SET and print their names."
   ]
  },
  {
   "cell_type": "code",
   "execution_count": 46,
   "metadata": {
    "collapsed": true
   },
   "outputs": [],
   "source": [
    "SET_data = data_df.copy()"
   ]
  },
  {
   "cell_type": "code",
   "execution_count": 47,
   "metadata": {
    "collapsed": true
   },
   "outputs": [],
   "source": [
    "cols = [0,11,12,13,14,15,16,17,18,19,20,21,22]\n",
    "SET_data.drop(SET_data.columns[cols], axis=1, inplace=True)"
   ]
  },
  {
   "cell_type": "code",
   "execution_count": 48,
   "metadata": {},
   "outputs": [
    {
     "data": {
      "text/html": [
       "<div>\n",
       "<style>\n",
       "    .dataframe thead tr:only-child th {\n",
       "        text-align: right;\n",
       "    }\n",
       "\n",
       "    .dataframe thead th {\n",
       "        text-align: left;\n",
       "    }\n",
       "\n",
       "    .dataframe tbody tr th {\n",
       "        vertical-align: top;\n",
       "    }\n",
       "</style>\n",
       "<table border=\"1\" class=\"dataframe\">\n",
       "  <thead>\n",
       "    <tr style=\"text-align: right;\">\n",
       "      <th></th>\n",
       "      <th>salary</th>\n",
       "      <th>bonus</th>\n",
       "      <th>long_term_incentive</th>\n",
       "      <th>deferred_income</th>\n",
       "      <th>deferral_payments</th>\n",
       "      <th>loan_advances</th>\n",
       "      <th>other</th>\n",
       "      <th>expenses</th>\n",
       "      <th>director_fees</th>\n",
       "      <th>total_payments</th>\n",
       "    </tr>\n",
       "  </thead>\n",
       "  <tbody>\n",
       "    <tr>\n",
       "      <th>ALLEN PHILLIP K</th>\n",
       "      <td>201955.0</td>\n",
       "      <td>4175000.0</td>\n",
       "      <td>304805.0</td>\n",
       "      <td>-3081055.0</td>\n",
       "      <td>2869717.0</td>\n",
       "      <td>0.0</td>\n",
       "      <td>152.0</td>\n",
       "      <td>13868.0</td>\n",
       "      <td>0.0</td>\n",
       "      <td>4484442.0</td>\n",
       "    </tr>\n",
       "    <tr>\n",
       "      <th>BADUM JAMES P</th>\n",
       "      <td>0.0</td>\n",
       "      <td>0.0</td>\n",
       "      <td>0.0</td>\n",
       "      <td>0.0</td>\n",
       "      <td>178980.0</td>\n",
       "      <td>0.0</td>\n",
       "      <td>0.0</td>\n",
       "      <td>3486.0</td>\n",
       "      <td>0.0</td>\n",
       "      <td>182466.0</td>\n",
       "    </tr>\n",
       "    <tr>\n",
       "      <th>BANNANTINE JAMES M</th>\n",
       "      <td>477.0</td>\n",
       "      <td>0.0</td>\n",
       "      <td>0.0</td>\n",
       "      <td>-5104.0</td>\n",
       "      <td>0.0</td>\n",
       "      <td>0.0</td>\n",
       "      <td>864523.0</td>\n",
       "      <td>56301.0</td>\n",
       "      <td>0.0</td>\n",
       "      <td>916197.0</td>\n",
       "    </tr>\n",
       "    <tr>\n",
       "      <th>BAXTER JOHN C</th>\n",
       "      <td>267102.0</td>\n",
       "      <td>1200000.0</td>\n",
       "      <td>1586055.0</td>\n",
       "      <td>-1386055.0</td>\n",
       "      <td>1295738.0</td>\n",
       "      <td>0.0</td>\n",
       "      <td>2660303.0</td>\n",
       "      <td>11200.0</td>\n",
       "      <td>0.0</td>\n",
       "      <td>5634343.0</td>\n",
       "    </tr>\n",
       "    <tr>\n",
       "      <th>BAY FRANKLIN R</th>\n",
       "      <td>239671.0</td>\n",
       "      <td>400000.0</td>\n",
       "      <td>0.0</td>\n",
       "      <td>-201641.0</td>\n",
       "      <td>260455.0</td>\n",
       "      <td>0.0</td>\n",
       "      <td>69.0</td>\n",
       "      <td>129142.0</td>\n",
       "      <td>0.0</td>\n",
       "      <td>827696.0</td>\n",
       "    </tr>\n",
       "  </tbody>\n",
       "</table>\n",
       "</div>"
      ],
      "text/plain": [
       "                      salary      bonus  long_term_incentive  deferred_income  \\\n",
       "ALLEN PHILLIP K     201955.0  4175000.0             304805.0       -3081055.0   \n",
       "BADUM JAMES P            0.0        0.0                  0.0              0.0   \n",
       "BANNANTINE JAMES M     477.0        0.0                  0.0          -5104.0   \n",
       "BAXTER JOHN C       267102.0  1200000.0            1586055.0       -1386055.0   \n",
       "BAY FRANKLIN R      239671.0   400000.0                  0.0        -201641.0   \n",
       "\n",
       "                    deferral_payments  loan_advances      other  expenses  \\\n",
       "ALLEN PHILLIP K             2869717.0            0.0      152.0   13868.0   \n",
       "BADUM JAMES P                178980.0            0.0        0.0    3486.0   \n",
       "BANNANTINE JAMES M                0.0            0.0   864523.0   56301.0   \n",
       "BAXTER JOHN C               1295738.0            0.0  2660303.0   11200.0   \n",
       "BAY FRANKLIN R               260455.0            0.0       69.0  129142.0   \n",
       "\n",
       "                    director_fees  total_payments  \n",
       "ALLEN PHILLIP K               0.0       4484442.0  \n",
       "BADUM JAMES P                 0.0        182466.0  \n",
       "BANNANTINE JAMES M            0.0        916197.0  \n",
       "BAXTER JOHN C                 0.0       5634343.0  \n",
       "BAY FRANKLIN R                0.0        827696.0  "
      ]
     },
     "execution_count": 48,
     "metadata": {},
     "output_type": "execute_result"
    }
   ],
   "source": [
    "SET_data.head()"
   ]
  },
  {
   "cell_type": "code",
   "execution_count": 50,
   "metadata": {
    "collapsed": true
   },
   "outputs": [],
   "source": [
    "cols = [\n",
    "    'salary', 'bonus', 'long_term_incentive', 'deferred_income',\n",
    "    'deferral_payments', 'loan_advances', 'other', 'expenses', 'director_fees',\n",
    "    'total_payments'\n",
    "]"
   ]
  },
  {
   "cell_type": "code",
   "execution_count": 51,
   "metadata": {
    "collapsed": true
   },
   "outputs": [],
   "source": [
    "scaler = MinMaxScaler()\n",
    "SET_data[cols] = scaler.fit_transform(SET_data[cols])"
   ]
  },
  {
   "cell_type": "code",
   "execution_count": 52,
   "metadata": {
    "collapsed": true
   },
   "outputs": [],
   "source": [
    "e_names = pd.Series(SET_data.index)"
   ]
  },
  {
   "cell_type": "code",
   "execution_count": 53,
   "metadata": {
    "collapsed": true
   },
   "outputs": [],
   "source": [
    "def SET(m,SET_data):\n",
    "# Set the value of parameter m = the no. of iterations you require\n",
    "    Card = pd.Series(np.NAN)\n",
    "    DS=pd.Series(np.NAN)\n",
    "    idx_added = pd.Series(np.NAN)\n",
    "    pos = 0\n",
    "    for j in range(1,m+1):\n",
    "        new_indices = np.random.choice(e_names.index,len(e_names),replace=False)\n",
    "        for i in pd.Series(new_indices).index:\n",
    "            idx_added[i+pos] = new_indices[i]\n",
    "            DS[i+pos]=sum(np.var(SET_data.loc[e_names[new_indices[:i+1]]]))\n",
    "            Card[i+pos] = len(e_names[:i+1])\n",
    "        pos = pos+i+1\n",
    "\n",
    "    df = pd.DataFrame({'Index_added':idx_added,'DS':DS,'Card':Card})\n",
    "    df ['DS_Prev'] = df.DS.shift(1)\n",
    "    df['Card_prev'] = df.Card.shift(1)\n",
    "    df.Card_prev[(df.Card == 1)] = 0\n",
    "    df = df.fillna(0)\n",
    "    df['Smoothing'] = (df.Card - df.Card_prev)*(df.DS - df.DS_Prev)\n",
    "\n",
    "\n",
    "    # find indexes of sets with max sf\n",
    "    maxsf = []\n",
    "    for i in range(len(df.DS)):\n",
    "        if df.Smoothing[i] == df.Smoothing.max():\n",
    "            maxsf.append(i)\n",
    "    #print(maxsf)\n",
    "\n",
    "    N = len(e_names)\n",
    "    excp_set = []\n",
    "    for i in range(len(maxsf)):\n",
    "        j = maxsf[i]\n",
    "        k=j+1\n",
    "        temp = []\n",
    "        temp.append(df.Index_added[j])\n",
    "        excp_set.append(temp.copy())\n",
    "        temp_prev = pd.DataFrame()\n",
    "        temp_j = pd.DataFrame()\n",
    "        a=j\n",
    "        while(a%N!=0):\n",
    "            temp_row = SET_data.loc[e_names[df.Index_added[a]]]\n",
    "            temp_j = temp_j.append(temp_row)\n",
    "            a=a-1\n",
    "        temp_row = SET_data.loc[e_names[df.Index_added[a]]]\n",
    "        temp_j = temp_j.append(temp_row)\n",
    "        temp_prev = temp_j.copy()                   # Ij-1\n",
    "        temp_prev.drop(temp_prev.index[0],inplace=True)\n",
    "        #temp_prev.index = np.arange(len(temp_prev))\n",
    "        while(k%N!=0):\n",
    "            K_element = SET_data.loc[e_names[df.Index_added[k]]]    # K th element\n",
    "            temp_prev = temp_prev.append(K_element)            # Ij-1 U {ik}\n",
    "            temp_j = temp_j.append(K_element)               # Ij U {ik}\n",
    "            Dk0 = sum(np.var(temp_prev)) - df.DS[j-1]\n",
    "            Dk1 = sum(np.var(temp_j)) - df.DS[j]\n",
    "            if Dk0-Dk1 >= df.DS[j]:                # If Dk0 - Dk1 >= Dj we add the element to exception set.\n",
    "                excp_set[i].append(df.Index_added[k])\n",
    "            temp_prev.drop(temp_prev.index[len(temp_prev)-1],inplace=True)\n",
    "            temp_j.drop(temp_j.index[len(temp_j)-1],inplace=True)\n",
    "            k+=1\n",
    "    #print(excp_set)                                # contains the indices of exception elements.\n",
    "    return excp_set\n"
   ]
  },
  {
   "cell_type": "code",
   "execution_count": 58,
   "metadata": {
    "collapsed": true
   },
   "outputs": [],
   "source": [
    "excp_set = SET(1000,SET_data)"
   ]
  },
  {
   "cell_type": "code",
   "execution_count": 60,
   "metadata": {},
   "outputs": [
    {
     "name": "stdout",
     "output_type": "stream",
     "text": [
      "\n",
      "Exception set: \n",
      "\n",
      "79.0    LAY KENNETH L\n",
      "dtype: object\n"
     ]
    }
   ],
   "source": [
    "# Printing the POIs.\n",
    "print(\"\\nException set: \\n\")\n",
    "for i in range(len(excp_set)):\n",
    "    print(e_names[excp_set[i]])"
   ]
  }
 ],
 "metadata": {
  "kernelspec": {
   "display_name": "Python 3",
   "language": "python",
   "name": "python3"
  },
  "language_info": {
   "codemirror_mode": {
    "name": "ipython",
    "version": 3
   },
   "file_extension": ".py",
   "mimetype": "text/x-python",
   "name": "python",
   "nbconvert_exporter": "python",
   "pygments_lexer": "ipython3",
   "version": "3.6.3"
  }
 },
 "nbformat": 4,
 "nbformat_minor": 2
}
